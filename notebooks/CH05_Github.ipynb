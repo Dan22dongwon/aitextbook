{
  "nbformat": 4,
  "nbformat_minor": 0,
  "metadata": {
    "colab": {
      "provenance": [],
      "collapsed_sections": [
        "Zak5fgBJbdZy",
        "3s3RXBsHcXmb",
        "0xyJZuhkh2W-",
        "MAUy2JtKh6nk",
        "fyD0eDkgh-5v",
        "1EVscZZ7iDcn",
        "_Xzc7VwsiFop",
        "057tVc9QiMSe",
        "2QunalWtjNHb",
        "Mts-vIKMqMEj",
        "o_GkwElGqNwP",
        "EX3gKuY0qQsG",
        "SRhebbY22uWK",
        "4erf_UIF2r32",
        "AdtLVflN2pbO",
        "0vvcX8Uv6NlB",
        "NMjyXh_f7utT",
        "X4cRzSp_7uWl",
        "Sx6QBRy98QtX",
        "fM57sMbi9R-r",
        "6Pd41hPM93gU",
        "O8POG4YqNELL",
        "c8pGDsTFZg25",
        "a0vg0J63ZmpG",
        "hEb1LbJBQcOh",
        "Kg0N1DisTBZK",
        "A2-x5H_ZVALb",
        "ve_VASE9VBpP",
        "P4X-D8f_VCBX",
        "PWkrnfLxZZ4V",
        "l9Eo44AlZWDs",
        "loAH5Ctfc-8X",
        "ptXTO2HTdA9w",
        "OV3HtRf_vy2-",
        "vlDsiL9dwUpU",
        "wgdTIO-owXWm",
        "nix_GN001qGI",
        "Jw1Mc1wX1n84",
        "seeY50Y81j4c",
        "a1KBRlYINpd7",
        "pzo1HrUmNr1y",
        "wacPFdv5Nu5x",
        "MNV31gKANxlh",
        "4OsOZTaRNzip",
        "NaBRmsWNN2M3"
      ]
    },
    "kernelspec": {
      "name": "python3",
      "display_name": "Python 3"
    },
    "language_info": {
      "name": "python"
    }
  },
  "cells": [
    {
      "cell_type": "markdown",
      "source": [
        "# 챕터 5 실습 코드들 \n",
        "\n",
        "챕터 5의 실습에 필요한 코드 예제를 구글 코랩에서 여시려면 [링크](https://colab.research.google.com/drive/1li_OnjPC1uj3EdRBkqMs39hgByCJxMIk?usp=sharing\n",
        ")를 클릭하시거나 아래의 주소를 웹브라우저에 복사해 주세요. \n",
        "\n",
        "실습 코드 링크: https://colab.research.google.com/drive/1li_OnjPC1uj3EdRBkqMs39hgByCJxMIk?usp=sharing"
      ],
      "metadata": {
        "id": "ZNw9IQYqbUTE"
      }
    },
    {
      "cell_type": "markdown",
      "source": [
        "### [코드 예제 5-1: 변수에 데이터 저장하기]"
      ],
      "metadata": {
        "id": "Zak5fgBJbdZy"
      }
    },
    {
      "cell_type": "code",
      "metadata": {
        "colab": {
          "base_uri": "https://localhost:8080/"
        },
        "id": "X-SX4X4u7Bpr",
        "outputId": "f1aabf10-cade-45d9-d4cd-1ff9e156181f"
      },
      "source": [
        "# 변수에 값 저장하기 \n",
        "x = 100\n",
        "print(x)"
      ],
      "execution_count": null,
      "outputs": [
        {
          "output_type": "stream",
          "name": "stdout",
          "text": [
            "100\n"
          ]
        }
      ]
    },
    {
      "cell_type": "markdown",
      "source": [
        "### [코드 예제 5-2: 변수에 새로운 값을 저장하기] "
      ],
      "metadata": {
        "id": "3s3RXBsHcXmb"
      }
    },
    {
      "cell_type": "code",
      "metadata": {
        "colab": {
          "base_uri": "https://localhost:8080/"
        },
        "id": "8ZOfB07Y69ki",
        "outputId": "929cf1fc-0b5d-49af-eedb-e35b92c3e821"
      },
      "source": [
        "# 기존에 저장한 것과 같은 값인지 확인하기 위해서 변수 출력\n",
        "print(x) \n",
        "\n",
        "# 변수 x 에 새로운 값을 저장 \n",
        "x = 150 \n",
        "print(x)  "
      ],
      "execution_count": null,
      "outputs": [
        {
          "output_type": "stream",
          "text": [
            "200\n",
            "150\n"
          ],
          "name": "stdout"
        }
      ]
    },
    {
      "cell_type": "markdown",
      "source": [
        "### [코드 예제 5-3: 변수 속성확인] "
      ],
      "metadata": {
        "id": "0xyJZuhkh2W-"
      }
    },
    {
      "cell_type": "code",
      "metadata": {
        "colab": {
          "base_uri": "https://localhost:8080/"
        },
        "id": "lV8xA8yZAwXW",
        "outputId": "eabf5855-e561-4391-f492-0f3e297f35ed"
      },
      "source": [
        "# 변수 속성확인 \n",
        "print(type(x))\n",
        "\n",
        "# 데이터 형태 변경 후 변수 속성확인 \n",
        "x = 150.0 \n",
        "print(type(x))"
      ],
      "execution_count": null,
      "outputs": [
        {
          "output_type": "stream",
          "name": "stdout",
          "text": [
            "<class 'int'>\n",
            "<class 'float'>\n"
          ]
        }
      ]
    },
    {
      "cell_type": "markdown",
      "source": [
        "### [코드 예제 5-4: 새로운 변수에 다른 변수 간의 연산 결과 저장하기]"
      ],
      "metadata": {
        "id": "MAUy2JtKh6nk"
      }
    },
    {
      "cell_type": "code",
      "metadata": {
        "colab": {
          "base_uri": "https://localhost:8080/"
        },
        "id": "0m0X_zPUbIre",
        "outputId": "7a080305-b177-4f22-8b65-4165ca504ca6"
      },
      "source": [
        "x1 = 10 \n",
        "x2 = 20\n",
        "\n",
        "# 새로운 변수에 변수 간의 연산결과 저장 \n",
        "x3 = x1+x2 \n",
        "print(x3)"
      ],
      "execution_count": null,
      "outputs": [
        {
          "output_type": "stream",
          "name": "stdout",
          "text": [
            "30\n"
          ]
        }
      ]
    },
    {
      "cell_type": "markdown",
      "source": [
        "### [코드 예제 5-5: 다른 변수에 같은 값 저장하기]"
      ],
      "metadata": {
        "id": "fyD0eDkgh-5v"
      }
    },
    {
      "cell_type": "code",
      "source": [
        "# 여러 변수에 같은 값 저장 \n",
        "a = b = c = d = 100  \n",
        "print(a, b, c, d) \n",
        "\n",
        "# 변수 중 하나의 값을 변환 \n",
        "b = 150  \n",
        "print(a, b, c, d) "
      ],
      "metadata": {
        "colab": {
          "base_uri": "https://localhost:8080/"
        },
        "id": "nQJm-CVZd-Ne",
        "outputId": "f799fa89-ac5e-4346-a422-a3e75773cf94"
      },
      "execution_count": null,
      "outputs": [
        {
          "output_type": "stream",
          "name": "stdout",
          "text": [
            "100 100 100 100\n",
            "100 150 100 100\n"
          ]
        }
      ]
    },
    {
      "cell_type": "markdown",
      "source": [
        "### [코드 예제 5-6: 각기 다른 변수에 다른 데이터를 저장] "
      ],
      "metadata": {
        "id": "1EVscZZ7iDcn"
      }
    },
    {
      "cell_type": "code",
      "metadata": {
        "colab": {
          "base_uri": "https://localhost:8080/"
        },
        "id": "zYUsj532E300",
        "outputId": "8f4bae3d-98b0-427d-baaa-da2388ff18e4"
      },
      "source": [
        "# 다른 변수에 각기 다른 값 저장\n",
        "x, y, z = 10, 20, 30 \n",
        "print(\"x =\", x, \"y =\", y, \"z =\", z)"
      ],
      "execution_count": null,
      "outputs": [
        {
          "output_type": "stream",
          "text": [
            "x = 10 y = 20 z = 30\n"
          ],
          "name": "stdout"
        }
      ]
    },
    {
      "cell_type": "markdown",
      "source": [
        "### [코드 예제 5-7: 변수와 데이터의 수가 동일하지 않는 경우 발생하는 에러의 예] "
      ],
      "metadata": {
        "id": "_Xzc7VwsiFop"
      }
    },
    {
      "cell_type": "code",
      "metadata": {
        "colab": {
          "base_uri": "https://localhost:8080/",
          "height": 183
        },
        "id": "Km_mMk9jGuiq",
        "outputId": "819b7beb-d62f-47a4-e6e1-9a3adac5cb0b"
      },
      "source": [
        "# 변수의 수와 데이터의 수가 동일하지 않아 에러 발생\n",
        "x, y, z = 10, 20, 30, 40  "
      ],
      "execution_count": null,
      "outputs": [
        {
          "output_type": "error",
          "ename": "ValueError",
          "evalue": "ignored",
          "traceback": [
            "\u001b[0;31m---------------------------------------------------------------------------\u001b[0m",
            "\u001b[0;31mValueError\u001b[0m                                Traceback (most recent call last)",
            "\u001b[0;32m<ipython-input-6-4d8ab30e0301>\u001b[0m in \u001b[0;36m<module>\u001b[0;34m()\u001b[0m\n\u001b[1;32m      1\u001b[0m \u001b[0;31m# 변수의 수와 데이터의 수가 동일하지 않아 에러 발생\u001b[0m\u001b[0;34m\u001b[0m\u001b[0;34m\u001b[0m\u001b[0;34m\u001b[0m\u001b[0m\n\u001b[0;32m----> 2\u001b[0;31m \u001b[0mx\u001b[0m\u001b[0;34m,\u001b[0m \u001b[0my\u001b[0m\u001b[0;34m,\u001b[0m \u001b[0mz\u001b[0m \u001b[0;34m=\u001b[0m \u001b[0;36m10\u001b[0m\u001b[0;34m,\u001b[0m \u001b[0;36m20\u001b[0m\u001b[0;34m,\u001b[0m \u001b[0;36m30\u001b[0m\u001b[0;34m,\u001b[0m \u001b[0;36m40\u001b[0m\u001b[0;34m\u001b[0m\u001b[0;34m\u001b[0m\u001b[0m\n\u001b[0m",
            "\u001b[0;31mValueError\u001b[0m: too many values to unpack (expected 3)"
          ]
        }
      ]
    },
    {
      "cell_type": "code",
      "source": [
        "x, y, z = 10, 20"
      ],
      "metadata": {
        "colab": {
          "base_uri": "https://localhost:8080/",
          "height": 165
        },
        "id": "eI2L1qqLgWTk",
        "outputId": "80898406-9e96-4316-839b-b9fa53351b39"
      },
      "execution_count": null,
      "outputs": [
        {
          "output_type": "error",
          "ename": "ValueError",
          "evalue": "ignored",
          "traceback": [
            "\u001b[0;31m---------------------------------------------------------------------------\u001b[0m",
            "\u001b[0;31mValueError\u001b[0m                                Traceback (most recent call last)",
            "\u001b[0;32m<ipython-input-7-34d511726749>\u001b[0m in \u001b[0;36m<module>\u001b[0;34m()\u001b[0m\n\u001b[0;32m----> 1\u001b[0;31m \u001b[0mx\u001b[0m\u001b[0;34m,\u001b[0m \u001b[0my\u001b[0m\u001b[0;34m,\u001b[0m \u001b[0mz\u001b[0m \u001b[0;34m=\u001b[0m \u001b[0;36m10\u001b[0m\u001b[0;34m,\u001b[0m \u001b[0;36m20\u001b[0m\u001b[0;34m\u001b[0m\u001b[0;34m\u001b[0m\u001b[0m\n\u001b[0m",
            "\u001b[0;31mValueError\u001b[0m: not enough values to unpack (expected 3, got 2)"
          ]
        }
      ]
    },
    {
      "cell_type": "markdown",
      "source": [
        "### [코드 예제: 5-8 변수 값 교환하기] "
      ],
      "metadata": {
        "id": "057tVc9QiMSe"
      }
    },
    {
      "cell_type": "code",
      "source": [
        "x, y = 10, 20 \n",
        "print(x, y)\n",
        "\n",
        "# 변수 값을 변경 \n",
        "x, y = y, x \n",
        "print(x, y)"
      ],
      "metadata": {
        "colab": {
          "base_uri": "https://localhost:8080/"
        },
        "id": "9NQUhkL2gZIm",
        "outputId": "9f5e15a5-896a-45e4-807f-ab5954ffb92f"
      },
      "execution_count": null,
      "outputs": [
        {
          "output_type": "stream",
          "name": "stdout",
          "text": [
            "10 20\n",
            "20 10\n"
          ]
        }
      ]
    },
    {
      "cell_type": "markdown",
      "source": [
        "### [코드 예제 5-9: 변수명의 대소문자를 구별하기 때문에 발생하는 에러]"
      ],
      "metadata": {
        "id": "2QunalWtjNHb"
      }
    },
    {
      "cell_type": "code",
      "source": [
        "math = 10 \n",
        "print(Math)"
      ],
      "metadata": {
        "colab": {
          "base_uri": "https://localhost:8080/",
          "height": 183
        },
        "id": "SEswuOd5hVYz",
        "outputId": "d5c9de05-5348-4c94-b14e-a2ccd6c1737b"
      },
      "execution_count": null,
      "outputs": [
        {
          "output_type": "error",
          "ename": "NameError",
          "evalue": "ignored",
          "traceback": [
            "\u001b[0;31m---------------------------------------------------------------------------\u001b[0m",
            "\u001b[0;31mNameError\u001b[0m                                 Traceback (most recent call last)",
            "\u001b[0;32m<ipython-input-9-2eff25ab962d>\u001b[0m in \u001b[0;36m<module>\u001b[0;34m()\u001b[0m\n\u001b[1;32m      1\u001b[0m \u001b[0mmath\u001b[0m \u001b[0;34m=\u001b[0m \u001b[0;36m10\u001b[0m\u001b[0;34m\u001b[0m\u001b[0;34m\u001b[0m\u001b[0m\n\u001b[0;32m----> 2\u001b[0;31m \u001b[0mprint\u001b[0m\u001b[0;34m(\u001b[0m\u001b[0mMath\u001b[0m\u001b[0;34m)\u001b[0m\u001b[0;34m\u001b[0m\u001b[0;34m\u001b[0m\u001b[0m\n\u001b[0m",
            "\u001b[0;31mNameError\u001b[0m: name 'Math' is not defined"
          ]
        }
      ]
    },
    {
      "cell_type": "markdown",
      "source": [
        "### [코드 예제 5-10: 변수 명에 사용할 수 있는 문자들] "
      ],
      "metadata": {
        "id": "Mts-vIKMqMEj"
      }
    },
    {
      "cell_type": "code",
      "source": [
        "# 변수 이름에 사용할 수 있는 문자들 \n",
        "변수 = 10\n",
        "x1 = 10 \n",
        "x_10 = 10\n",
        "_xdf = 30 "
      ],
      "metadata": {
        "id": "MW04aSpri8Vz"
      },
      "execution_count": null,
      "outputs": []
    },
    {
      "cell_type": "markdown",
      "source": [
        "### [코드 예제 5-11: 변수 명으로 사용할 수 없는 경우] "
      ],
      "metadata": {
        "id": "o_GkwElGqNwP"
      }
    },
    {
      "cell_type": "code",
      "source": [
        "# 변수 이름에 사용할 수 없음 \n",
        "10_x = 10 "
      ],
      "metadata": {
        "colab": {
          "base_uri": "https://localhost:8080/",
          "height": 130
        },
        "id": "HLSE6Nn1kCjy",
        "outputId": "393a860f-7217-47f4-fc5c-955d33882988"
      },
      "execution_count": null,
      "outputs": [
        {
          "output_type": "error",
          "ename": "SyntaxError",
          "evalue": "ignored",
          "traceback": [
            "\u001b[0;36m  File \u001b[0;32m\"<ipython-input-12-585608513c74>\"\u001b[0;36m, line \u001b[0;32m1\u001b[0m\n\u001b[0;31m    10_x = 10\u001b[0m\n\u001b[0m      ^\u001b[0m\n\u001b[0;31mSyntaxError\u001b[0m\u001b[0;31m:\u001b[0m invalid token\n"
          ]
        }
      ]
    },
    {
      "cell_type": "markdown",
      "source": [
        "### [코드 예제 5-12: 예약어에 데이터를 저장하려는 경우 발생하는 에러의 예] "
      ],
      "metadata": {
        "id": "EX3gKuY0qQsG"
      }
    },
    {
      "cell_type": "code",
      "source": [
        "# 예약어에 변수를 저장하려는 경우 \n",
        "False = 10 "
      ],
      "metadata": {
        "colab": {
          "base_uri": "https://localhost:8080/",
          "height": 130
        },
        "id": "AwXJ0yvTkGh4",
        "outputId": "3d6b4065-ec91-47a0-b532-23fe00169d15"
      },
      "execution_count": null,
      "outputs": [
        {
          "output_type": "error",
          "ename": "SyntaxError",
          "evalue": "ignored",
          "traceback": [
            "\u001b[0;36m  File \u001b[0;32m\"<ipython-input-13-115ffb0c78e6>\"\u001b[0;36m, line \u001b[0;32m2\u001b[0m\n\u001b[0;31m    False = 10\u001b[0m\n\u001b[0m               ^\u001b[0m\n\u001b[0;31mSyntaxError\u001b[0m\u001b[0;31m:\u001b[0m can't assign to keyword\n"
          ]
        }
      ]
    },
    {
      "cell_type": "markdown",
      "source": [
        "[코드 예제 5.1.3-1: input() 함수 사용의 예] "
      ],
      "metadata": {
        "id": "5F80mBlZqTEC"
      }
    },
    {
      "cell_type": "code",
      "source": [
        "input(\"당신의 고향은 어디인가요?: \") "
      ],
      "metadata": {
        "colab": {
          "base_uri": "https://localhost:8080/",
          "height": 53
        },
        "id": "IFUJf6ZGn3kj",
        "outputId": "40e3fb26-ac61-4f08-8857-7b4b7ef0f8e6"
      },
      "execution_count": null,
      "outputs": [
        {
          "name": "stdout",
          "output_type": "stream",
          "text": [
            "당신의 고향은 어디인가요?: 서울\n"
          ]
        },
        {
          "output_type": "execute_result",
          "data": {
            "application/vnd.google.colaboratory.intrinsic+json": {
              "type": "string"
            },
            "text/plain": [
              "'서울'"
            ]
          },
          "metadata": {},
          "execution_count": 15
        }
      ]
    },
    {
      "cell_type": "markdown",
      "source": [
        "### [코드 예제 5-13: input() 함수 사용의 예"
      ],
      "metadata": {
        "id": "wlKiCbZiqZKP"
      }
    },
    {
      "cell_type": "code",
      "source": [
        "input(\"당신의 고향은 어디인가요?: \")"
      ],
      "metadata": {
        "id": "Ce3f8V3oj1VY"
      },
      "execution_count": null,
      "outputs": []
    },
    {
      "cell_type": "markdown",
      "source": [
        "### [코드 예제 5-14: input() 함수를 사용해 데이터 입력받기"
      ],
      "metadata": {
        "id": "fInphyNPj1tl"
      }
    },
    {
      "cell_type": "code",
      "source": [
        "# 입력값을 받아 answer라는 변수에 저장\n",
        "answer = input(\"당신의 고향은 어디인가요?: \") \n",
        "print(\"당신의 고향은 \", answer, \" 입니다\") "
      ],
      "metadata": {
        "colab": {
          "base_uri": "https://localhost:8080/"
        },
        "id": "qnlkFjFnlDhg",
        "outputId": "3f6cbb68-029f-405c-f0c1-ea00a49b1e6a"
      },
      "execution_count": null,
      "outputs": [
        {
          "output_type": "stream",
          "name": "stdout",
          "text": [
            "당신의 고향은 어디인가요?: 서울\n",
            "당신의 고향은  서울  입니다\n"
          ]
        }
      ]
    },
    {
      "cell_type": "markdown",
      "source": [
        "### [코드 예제 5-15: 리스트 만들기] "
      ],
      "metadata": {
        "id": "SRhebbY22uWK"
      }
    },
    {
      "cell_type": "code",
      "source": [
        "# 4개의 요소를 가진 리스트를 생성 \n",
        "list_a = [1, 2, 3, 4] \n",
        "print(list_a) \n",
        "print(type(list_a))"
      ],
      "metadata": {
        "id": "aYg0Edzhpi-J",
        "colab": {
          "base_uri": "https://localhost:8080/"
        },
        "outputId": "549a2f2a-6fb5-4169-fc72-86ba5d9f355c"
      },
      "execution_count": null,
      "outputs": [
        {
          "output_type": "stream",
          "name": "stdout",
          "text": [
            "[1, 2, 3, 4]\n",
            "<class 'list'>\n"
          ]
        }
      ]
    },
    {
      "cell_type": "markdown",
      "source": [
        "### [코드 예제 5-16: 비어 있는 리스트 만들기] "
      ],
      "metadata": {
        "id": "4erf_UIF2r32"
      }
    },
    {
      "cell_type": "code",
      "source": [
        "# 빈리스트 만들기\n",
        "empty_list_a = list() \n",
        "empty_list_b = [ ] \n",
        "\n",
        "# 요소가 없기 때문에 []이 출력됨 \n",
        "print(empty_list_a) \n",
        "# 요소가 없기 때문에 []이 출력됨 \n",
        "print(empty_list_b) "
      ],
      "metadata": {
        "colab": {
          "base_uri": "https://localhost:8080/"
        },
        "id": "ZMtKw6AKxcb2",
        "outputId": "d0190c7e-be83-4668-98aa-638aadafcfbc"
      },
      "execution_count": null,
      "outputs": [
        {
          "output_type": "stream",
          "name": "stdout",
          "text": [
            "[]\n",
            "[]\n"
          ]
        }
      ]
    },
    {
      "cell_type": "markdown",
      "source": [
        "### [코드 예제 5-17: 리스트에 다른 요소 저장히기]"
      ],
      "metadata": {
        "id": "AdtLVflN2pbO"
      }
    },
    {
      "cell_type": "code",
      "source": [
        "# 리스트에 다른 요소 저장하기 \n",
        "list_b = ['치와와', 100, 235, True, '비글', 232.32, 200.5, False]\n",
        "\n",
        "print(list_b)"
      ],
      "metadata": {
        "colab": {
          "base_uri": "https://localhost:8080/"
        },
        "id": "at3CTM0Fxgdh",
        "outputId": "e887c6a2-b002-4183-ef44-715b03377b1c"
      },
      "execution_count": null,
      "outputs": [
        {
          "output_type": "stream",
          "name": "stdout",
          "text": [
            "['치와와', 100, 235, True, '비글', 232.32, 200.5, False]\n"
          ]
        }
      ]
    },
    {
      "cell_type": "markdown",
      "source": [
        "### [코드 예제 5-18: 리스트를 요소로 가진 리스트 만들기] "
      ],
      "metadata": {
        "id": "5ZlBoWQ0I755"
      }
    },
    {
      "cell_type": "code",
      "source": [
        "# 리스트를 포함한 리스트 만들기 \n",
        "list_c = ['리스트요소1', ['리스트요소2-1', '리스트요소2-2', '리스트요소2-3'], \n",
        "      '리스트요소3', ['리스트요소4-1','리스트요소4-2']]\n",
        "print(list_c)\n",
        "print(type(list_c))"
      ],
      "metadata": {
        "id": "ccEJ9jNHI85y"
      },
      "execution_count": null,
      "outputs": []
    },
    {
      "cell_type": "markdown",
      "source": [
        "### [코드 예제 5-19: 리스트 안의 리스트 불러오기] "
      ],
      "metadata": {
        "id": "eZ9dObRl6Mnn"
      }
    },
    {
      "cell_type": "code",
      "metadata": {
        "colab": {
          "base_uri": "https://localhost:8080/"
        },
        "id": "pPv9cQo7qqg6",
        "outputId": "e6f6b557-b257-4477-8f21-751e35ac4247"
      },
      "source": [
        "# list_c의 두번째 요소를 출력 \n",
        "list_c[1] "
      ],
      "execution_count": null,
      "outputs": [
        {
          "output_type": "execute_result",
          "data": {
            "text/plain": [
              "['리스트요소2-1', '리스트요소2-2', '리스트요소2-3']"
            ]
          },
          "metadata": {
            "tags": []
          },
          "execution_count": 102
        }
      ]
    },
    {
      "cell_type": "markdown",
      "source": [
        "### [코드 예제 5-20: 리스트 안의 리스트의 요소 출력하기] "
      ],
      "metadata": {
        "id": "0vvcX8Uv6NlB"
      }
    },
    {
      "cell_type": "code",
      "metadata": {
        "colab": {
          "base_uri": "https://localhost:8080/",
          "height": 35
        },
        "id": "1P7cOKS3ugZp",
        "outputId": "94cc963e-022b-4f9f-84cd-4213301be152"
      },
      "source": [
        "#리스트 안의 리스트에서 첫번째 요소 출력 \n",
        "list_c[1][0] "
      ],
      "execution_count": null,
      "outputs": [
        {
          "output_type": "execute_result",
          "data": {
            "application/vnd.google.colaboratory.intrinsic+json": {
              "type": "string"
            },
            "text/plain": [
              "'리스트요소2-1'"
            ]
          },
          "metadata": {
            "tags": []
          },
          "execution_count": 103
        }
      ]
    },
    {
      "cell_type": "markdown",
      "source": [
        "### [코드 예제 5-21: 두 리스트의 덧셈] "
      ],
      "metadata": {
        "id": "NMjyXh_f7utT"
      }
    },
    {
      "cell_type": "code",
      "metadata": {
        "colab": {
          "base_uri": "https://localhost:8080/"
        },
        "id": "YKQuiG4N2xLZ",
        "outputId": "cb63d90f-a17c-4bd7-88c6-fad9e9145536"
      },
      "source": [
        "print(list_a)\n",
        "print(list_b)\n",
        "# 두 리스트 더하기 \n",
        "print(list_a + list_b) "
      ],
      "execution_count": null,
      "outputs": [
        {
          "output_type": "stream",
          "name": "stdout",
          "text": [
            "[1, 2, 3, 4]\n",
            "['치와와', 100, 235, True, '비글', 232.32, 200.5, False]\n",
            "[1, 2, 3, 4, '치와와', 100, 235, True, '비글', 232.32, 200.5, False]\n"
          ]
        }
      ]
    },
    {
      "cell_type": "markdown",
      "source": [
        "### [코드 예제 5-22: 리스트에 숫자를 곱한 값] "
      ],
      "metadata": {
        "id": "X4cRzSp_7uWl"
      }
    },
    {
      "cell_type": "code",
      "metadata": {
        "colab": {
          "base_uri": "https://localhost:8080/"
        },
        "id": "my05hwWh280H",
        "outputId": "c9a47bee-684e-4a62-df1f-d8e67d9556da"
      },
      "source": [
        "list_a * 3 "
      ],
      "execution_count": null,
      "outputs": [
        {
          "output_type": "execute_result",
          "data": {
            "text/plain": [
              "[1, 2, 3, 4, 1, 2, 3, 4, 1, 2, 3, 4]"
            ]
          },
          "metadata": {
            "tags": []
          },
          "execution_count": 18
        }
      ]
    },
    {
      "cell_type": "markdown",
      "metadata": {
        "id": "Sx6QBRy98QtX"
      },
      "source": [
        "### [코드 예제 5-23: 리스트와 리스트의 곱셈] "
      ]
    },
    {
      "cell_type": "code",
      "metadata": {
        "colab": {
          "base_uri": "https://localhost:8080/",
          "height": 164
        },
        "id": "5CEOj8aP3SoC",
        "outputId": "85a4e4bf-01a9-42ef-c869-7764c507dfb7"
      },
      "source": [
        "list_a*list_a "
      ],
      "execution_count": null,
      "outputs": [
        {
          "output_type": "error",
          "ename": "TypeError",
          "evalue": "can't multiply sequence by non-int of type 'list'",
          "traceback": [
            "\u001b[0;31m---------------------------------------------------------------------------\u001b[0m",
            "\u001b[0;31mTypeError\u001b[0m                                 Traceback (most recent call last)",
            "\u001b[0;32m<ipython-input-20-03aa3328fb70>\u001b[0m in \u001b[0;36m<module>\u001b[0;34m\u001b[0m\n\u001b[0;32m----> 1\u001b[0;31m \u001b[0mlist_a\u001b[0m\u001b[0;34m*\u001b[0m\u001b[0mlist_a\u001b[0m \u001b[0;31m# 리스트 끼리 곱하기는 안됨\u001b[0m\u001b[0;34m\u001b[0m\u001b[0;34m\u001b[0m\u001b[0m\n\u001b[0m",
            "\u001b[0;31mTypeError\u001b[0m: can't multiply sequence by non-int of type 'list'"
          ]
        }
      ]
    },
    {
      "cell_type": "markdown",
      "source": [
        "### [코드 예제 5-24: 리스트와 리스트의 뺄셈] "
      ],
      "metadata": {
        "id": "fM57sMbi9R-r"
      }
    },
    {
      "cell_type": "code",
      "metadata": {
        "colab": {
          "base_uri": "https://localhost:8080/",
          "height": 181
        },
        "id": "thN5kOgw3Boi",
        "outputId": "00fea78c-d1e2-4640-c2b3-0c03f4178307"
      },
      "source": [
        "list_d = [1, 3]\n",
        "list_a-list_d "
      ],
      "execution_count": null,
      "outputs": [
        {
          "output_type": "error",
          "ename": "TypeError",
          "evalue": "unsupported operand type(s) for -: 'list' and 'list'",
          "traceback": [
            "\u001b[0;31m---------------------------------------------------------------------------\u001b[0m",
            "\u001b[0;31mTypeError\u001b[0m                                 Traceback (most recent call last)",
            "\u001b[0;32m<ipython-input-19-8992d32f655c>\u001b[0m in \u001b[0;36m<module>\u001b[0;34m\u001b[0m\n\u001b[1;32m      1\u001b[0m \u001b[0mlist_d\u001b[0m \u001b[0;34m=\u001b[0m \u001b[0;34m[\u001b[0m\u001b[0;36m1\u001b[0m\u001b[0;34m,\u001b[0m \u001b[0;36m3\u001b[0m\u001b[0;34m]\u001b[0m\u001b[0;34m\u001b[0m\u001b[0;34m\u001b[0m\u001b[0m\n\u001b[0;32m----> 2\u001b[0;31m \u001b[0mlist_a\u001b[0m\u001b[0;34m-\u001b[0m\u001b[0mlist_d\u001b[0m  \u001b[0;31m# 빼기는 안됨\u001b[0m\u001b[0;34m\u001b[0m\u001b[0;34m\u001b[0m\u001b[0m\n\u001b[0m",
            "\u001b[0;31mTypeError\u001b[0m: unsupported operand type(s) for -: 'list' and 'list'"
          ]
        }
      ]
    },
    {
      "cell_type": "markdown",
      "source": [
        "### [코드 예제 5-25: 리스트의 특정 요소 값 변경] "
      ],
      "metadata": {
        "id": "6Pd41hPM93gU"
      }
    },
    {
      "cell_type": "code",
      "source": [
        "list_a = [1,2,3,4]\n",
        "list_a[0] = 12 \n",
        "list_a"
      ],
      "metadata": {
        "colab": {
          "base_uri": "https://localhost:8080/"
        },
        "id": "sow0iATH94cO",
        "outputId": "696e7785-bd18-4253-b348-f6041380e77d"
      },
      "execution_count": null,
      "outputs": [
        {
          "output_type": "execute_result",
          "data": {
            "text/plain": [
              "[12, 2, 3, 4]"
            ]
          },
          "metadata": {},
          "execution_count": 9
        }
      ]
    },
    {
      "cell_type": "markdown",
      "source": [
        "### [코드 예제 5-26: 리스트의 범위를 지정하여 값을 변경] "
      ],
      "metadata": {
        "id": "O8POG4YqNELL"
      }
    },
    {
      "cell_type": "code",
      "metadata": {
        "colab": {
          "base_uri": "https://localhost:8080/"
        },
        "id": "P7PL9kKa9p--",
        "outputId": "e76870ee-2c2c-4041-809b-a8794854fae5"
      },
      "source": [
        "list_a = [1,2,3,4]\n",
        "# 두 개의 요소 변경\n",
        "list_a[0:2] = [3, 4] \n",
        "print(list_a)\n",
        "# 두 개의 요소를 세 개의 요소로 변경 \n",
        "list_a[0:2] = [13, 64, 4]\n",
        "print(list_a)\n",
        "# 빈 요소로 변경 \n",
        "list_a[0:2] = [] \n",
        "print(list_a)\n"
      ],
      "execution_count": null,
      "outputs": [
        {
          "output_type": "stream",
          "name": "stdout",
          "text": [
            "[3, 4, 3, 4]\n",
            "[13, 64, 4, 3, 4]\n",
            "[4, 3, 4]\n"
          ]
        }
      ]
    },
    {
      "cell_type": "markdown",
      "source": [
        "### [코드 예제 5-27: 리스트의 범위를 하나의 데이터로 변경하면 발생하는 에러] "
      ],
      "metadata": {
        "id": "c8pGDsTFZg25"
      }
    },
    {
      "cell_type": "code",
      "metadata": {
        "colab": {
          "base_uri": "https://localhost:8080/",
          "height": 200
        },
        "id": "cVze2bhc_ONs",
        "outputId": "47644147-4b0c-4b7c-ecfc-021f29db7f8e"
      },
      "source": [
        "list_a = [1,2,3,4]\n",
        "list_a[0:2] = 1 \n",
        "list_a"
      ],
      "execution_count": null,
      "outputs": [
        {
          "output_type": "error",
          "ename": "TypeError",
          "evalue": "ignored",
          "traceback": [
            "\u001b[0;31m---------------------------------------------------------------------------\u001b[0m",
            "\u001b[0;31mTypeError\u001b[0m                                 Traceback (most recent call last)",
            "\u001b[0;32m<ipython-input-34-46b1af3bea13>\u001b[0m in \u001b[0;36m<module>\u001b[0;34m()\u001b[0m\n\u001b[1;32m      1\u001b[0m \u001b[0mlist_a\u001b[0m \u001b[0;34m=\u001b[0m \u001b[0;34m[\u001b[0m\u001b[0;36m1\u001b[0m\u001b[0;34m,\u001b[0m\u001b[0;36m2\u001b[0m\u001b[0;34m,\u001b[0m\u001b[0;36m3\u001b[0m\u001b[0;34m,\u001b[0m\u001b[0;36m4\u001b[0m\u001b[0;34m]\u001b[0m\u001b[0;34m\u001b[0m\u001b[0;34m\u001b[0m\u001b[0m\n\u001b[0;32m----> 2\u001b[0;31m \u001b[0mlist_a\u001b[0m\u001b[0;34m[\u001b[0m\u001b[0;36m0\u001b[0m\u001b[0;34m:\u001b[0m\u001b[0;36m2\u001b[0m\u001b[0;34m]\u001b[0m \u001b[0;34m=\u001b[0m \u001b[0;36m1\u001b[0m\u001b[0;34m\u001b[0m\u001b[0;34m\u001b[0m\u001b[0m\n\u001b[0m\u001b[1;32m      3\u001b[0m \u001b[0mlist_a\u001b[0m\u001b[0;34m\u001b[0m\u001b[0;34m\u001b[0m\u001b[0m\n",
            "\u001b[0;31mTypeError\u001b[0m: can only assign an iterable"
          ]
        }
      ]
    },
    {
      "cell_type": "markdown",
      "source": [
        "### [코드 예제 5-28: 리스트에 데이터 추가하기] "
      ],
      "metadata": {
        "id": "a0vg0J63ZmpG"
      }
    },
    {
      "cell_type": "code",
      "metadata": {
        "colab": {
          "base_uri": "https://localhost:8080/"
        },
        "id": "mjerjlzcv20e",
        "outputId": "cfcde380-2e4e-4572-f42b-2163655f72cb"
      },
      "source": [
        "list_a = [1, 2, 3, 4, 5]\n",
        "# 마지막에 하나의 요소 추가 \n",
        "list_a.append(6) \n",
        "print(list_a)\n",
        "# 마지막에 리스트 추가 \n",
        "list_a.extend([7,8])\n",
        "print(list_a)\n",
        "# 특정 위치에 특정 요소 추가 \n",
        "list_a.insert(3, 9)\n",
        "print(list_a)"
      ],
      "execution_count": null,
      "outputs": [
        {
          "output_type": "stream",
          "name": "stdout",
          "text": [
            "[1, 2, 3, 4, 5, 6]\n",
            "[1, 2, 3, 4, 5, 6, 7, 8]\n",
            "[1, 2, 3, 9, 4, 5, 6, 7, 8]\n"
          ]
        }
      ]
    },
    {
      "cell_type": "markdown",
      "source": [
        "### [코드 예제 5-29: 명령어를 사용하여 리스트 안의 요소 제거] "
      ],
      "metadata": {
        "id": "hEb1LbJBQcOh"
      }
    },
    {
      "cell_type": "code",
      "metadata": {
        "colab": {
          "base_uri": "https://localhost:8080/"
        },
        "id": "tLBz0ywjBbmi",
        "outputId": "142d1bf0-e3aa-4306-e987-7fbc58854fa9"
      },
      "source": [
        "list_a = [1, 2, 3, 3, 9, 4, 5, 6, 7, 8]\n",
        "# 마지막 요소 제거 \n",
        "list_a.pop() # 마지막 요소 제거 \n",
        "print(list_a)\n",
        "# 특정 요소 제거 \n",
        "list_a.remove(3) \n",
        "print(list_a)\n",
        "# del 사용하여 특정 위치 요소 제거\n",
        "del list_a[2]\n",
        "print(list_a)\n",
        "# 리스트 내의 모든 요소 제거 \n",
        "list_a.clear()\n",
        "print(list_a)"
      ],
      "execution_count": null,
      "outputs": [
        {
          "output_type": "stream",
          "name": "stdout",
          "text": [
            "[1, 2, 3, 3, 9, 4, 5, 6, 7]\n",
            "[1, 2, 3, 9, 4, 5, 6, 7]\n",
            "[1, 2, 9, 4, 5, 6, 7]\n",
            "[]\n"
          ]
        }
      ]
    },
    {
      "cell_type": "markdown",
      "source": [
        "### [코드 예제 5-30: .index() 를 사용해 리스트 내의 요소 찾기] "
      ],
      "metadata": {
        "id": "Kg0N1DisTBZK"
      }
    },
    {
      "cell_type": "code",
      "metadata": {
        "colab": {
          "base_uri": "https://localhost:8080/"
        },
        "id": "D6WdCeJCmUfq",
        "outputId": "56921575-0880-478a-804d-e695c8cc376c"
      },
      "source": [
        "list_d = [4,5,3,4,3,2,2,1,2,3]\n",
        "# 처음 요소 찾기 \n",
        "print(list_d.index(3))\n",
        "# 특정 인덱스 이후 요소 찾기 \n",
        "print(list_d.index(3,3))\n"
      ],
      "execution_count": null,
      "outputs": [
        {
          "output_type": "stream",
          "name": "stdout",
          "text": [
            "2\n",
            "4\n"
          ]
        }
      ]
    },
    {
      "cell_type": "markdown",
      "source": [
        "### [코드 예제 5-31: .count()를 사용하여 리스트 안의 요소의 개수 세기]"
      ],
      "metadata": {
        "id": "A2-x5H_ZVALb"
      }
    },
    {
      "cell_type": "code",
      "metadata": {
        "id": "wwnXIRPvD0jr",
        "colab": {
          "base_uri": "https://localhost:8080/"
        },
        "outputId": "56b304b5-12b0-41ed-83f3-49ea63ba5871"
      },
      "source": [
        "list_d = [4,5,3,4,3,2,2,1,2,3]\n",
        "# 요소의 개수 세기 \n",
        "print(list_d.count(3))\n",
        "# 리스트 안에 존재하지 않는 요소 세기\n",
        "print(list_d.count(15))"
      ],
      "execution_count": null,
      "outputs": [
        {
          "output_type": "stream",
          "name": "stdout",
          "text": [
            "3\n",
            "0\n"
          ]
        }
      ]
    },
    {
      "cell_type": "markdown",
      "source": [
        "### [코드 예제 5-32: .reverse()를 사용하여 리스트 변환] "
      ],
      "metadata": {
        "id": "ve_VASE9VBpP"
      }
    },
    {
      "cell_type": "code",
      "metadata": {
        "id": "9k_IhSt7GZf8",
        "colab": {
          "base_uri": "https://localhost:8080/"
        },
        "outputId": "912772ce-d8e1-490e-aabb-67d6e25fb838"
      },
      "source": [
        "list_d = [4,5,3,4,3,2,2,1,2,3]\n",
        "list_d.reverse()\n",
        "print(list_d)"
      ],
      "execution_count": null,
      "outputs": [
        {
          "output_type": "stream",
          "name": "stdout",
          "text": [
            "[3, 2, 1, 2, 2, 3, 4, 3, 5, 4]\n"
          ]
        }
      ]
    },
    {
      "cell_type": "markdown",
      "source": [
        "### [코드 예제 5-33: .sort()를 사용한 리스트 내의 요소 정렬]"
      ],
      "metadata": {
        "id": "P4X-D8f_VCBX"
      }
    },
    {
      "cell_type": "code",
      "source": [
        "list_d = [4,5,3,4,3,2,2,1,2,3]\n",
        "# 오름차순 \n",
        "list_d.sort()\n",
        "print(list_d)\n",
        "\n",
        "# 내림차순\n",
        "list_d = [4,5,3,4,3,2,2,1,2,3]\n",
        "list_d.sort(reverse=True)\n",
        "print(list_d)\n",
        "\n",
        "#문자열 정렬\n",
        "list_f = ['a', 'b', 'z', 'k', 'r']\n",
        "list_f.sort() # 문자열은 오름차/내림차 정렬이 가능함\n",
        "print(list_f)\n"
      ],
      "metadata": {
        "colab": {
          "base_uri": "https://localhost:8080/"
        },
        "id": "p6U5A8C5WVG0",
        "outputId": "0482cdfa-ef16-45e3-9805-3fa2bdcd5d74"
      },
      "execution_count": null,
      "outputs": [
        {
          "output_type": "stream",
          "name": "stdout",
          "text": [
            "[1, 2, 2, 2, 3, 3, 3, 4, 4, 5]\n",
            "[5, 4, 4, 3, 3, 3, 2, 2, 2, 1]\n",
            "['a', 'b', 'k', 'r', 'z']\n"
          ]
        }
      ]
    },
    {
      "cell_type": "markdown",
      "source": [
        "### [코드 에제 5-34: 순서를 정할 수 없는 리스트의 정렬] "
      ],
      "metadata": {
        "id": "PWkrnfLxZZ4V"
      }
    },
    {
      "cell_type": "code",
      "source": [
        "list_b = ['치와와', 100, 235, True, '비글', 232.32, 200.5, False]\n",
        "list_b.sort() \n",
        "print(list_b)"
      ],
      "metadata": {
        "colab": {
          "base_uri": "https://localhost:8080/",
          "height": 200
        },
        "id": "q7CbGI37Wi41",
        "outputId": "754f009c-a317-4357-a68b-409041232f41"
      },
      "execution_count": null,
      "outputs": [
        {
          "output_type": "error",
          "ename": "TypeError",
          "evalue": "ignored",
          "traceback": [
            "\u001b[0;31m---------------------------------------------------------------------------\u001b[0m",
            "\u001b[0;31mTypeError\u001b[0m                                 Traceback (most recent call last)",
            "\u001b[0;32m<ipython-input-30-1001196c940c>\u001b[0m in \u001b[0;36m<module>\u001b[0;34m()\u001b[0m\n\u001b[1;32m      1\u001b[0m \u001b[0mlist_b\u001b[0m \u001b[0;34m=\u001b[0m \u001b[0;34m[\u001b[0m\u001b[0;34m'치와와'\u001b[0m\u001b[0;34m,\u001b[0m \u001b[0;36m100\u001b[0m\u001b[0;34m,\u001b[0m \u001b[0;36m235\u001b[0m\u001b[0;34m,\u001b[0m \u001b[0;32mTrue\u001b[0m\u001b[0;34m,\u001b[0m \u001b[0;34m'비글'\u001b[0m\u001b[0;34m,\u001b[0m \u001b[0;36m232.32\u001b[0m\u001b[0;34m,\u001b[0m \u001b[0;36m200.5\u001b[0m\u001b[0;34m,\u001b[0m \u001b[0;32mFalse\u001b[0m\u001b[0;34m]\u001b[0m\u001b[0;34m\u001b[0m\u001b[0;34m\u001b[0m\u001b[0m\n\u001b[0;32m----> 2\u001b[0;31m \u001b[0mlist_b\u001b[0m\u001b[0;34m.\u001b[0m\u001b[0msort\u001b[0m\u001b[0;34m(\u001b[0m\u001b[0;34m)\u001b[0m\u001b[0;34m\u001b[0m\u001b[0;34m\u001b[0m\u001b[0m\n\u001b[0m\u001b[1;32m      3\u001b[0m \u001b[0mprint\u001b[0m\u001b[0;34m(\u001b[0m\u001b[0mlist_b\u001b[0m\u001b[0;34m)\u001b[0m\u001b[0;34m\u001b[0m\u001b[0;34m\u001b[0m\u001b[0m\n",
            "\u001b[0;31mTypeError\u001b[0m: '<' not supported between instances of 'int' and 'str'"
          ]
        }
      ]
    },
    {
      "cell_type": "markdown",
      "source": [
        "### [코드 예제 5-35: 새로운 리스트에 기존 리스트를 할당하는 경우] "
      ],
      "metadata": {
        "id": "cOawidaCZYIs"
      }
    },
    {
      "cell_type": "code",
      "source": [
        "list_a = [1, 5, 6] \n",
        "\n",
        "# 새로운 리스트에 기존 리스트 할당한 기존 리스트 요소 값 변경\n",
        "list_b = list_a \n",
        "list_a[0] = 15\n",
        "print('변경후: list_a = ', list_a)\n",
        "print('변경후: list_b = ', list_b)\n",
        "print(\"list_a와 list_b는 같은가?\", list_a is list_b) "
      ],
      "metadata": {
        "colab": {
          "base_uri": "https://localhost:8080/"
        },
        "id": "NtR4IbArXuiK",
        "outputId": "4a7beb88-1e80-4df1-84a9-79472658b8d0"
      },
      "execution_count": null,
      "outputs": [
        {
          "output_type": "stream",
          "name": "stdout",
          "text": [
            "변경후: list_a =  [15, 5, 6]\n",
            "변경후: list_b =  [15, 5, 6]\n",
            "list_a와 list_b는 같은가? True\n"
          ]
        }
      ]
    },
    {
      "cell_type": "markdown",
      "source": [
        "### [코드 예제 5-36: .copy()를 사용해 새로운 리스트 생성] "
      ],
      "metadata": {
        "id": "l9Eo44AlZWDs"
      }
    },
    {
      "cell_type": "code",
      "source": [
        "list_a = [1, 5, 6] \n",
        "\n",
        "# .copy()를 사용하는 경우 \n",
        "list_b = list_a.copy()\n",
        "list_a[0] = 15\n",
        "print('변경후: list_a = ', list_a)\n",
        "print('변경후: list_b = ', list_b)\n",
        "print(\"list_a와 list_b는 같은가?\", list_a is list_b) "
      ],
      "metadata": {
        "colab": {
          "base_uri": "https://localhost:8080/"
        },
        "id": "0mirmwfBWtcv",
        "outputId": "87ae2fa8-880f-49c3-d7c9-bbc401cf13af"
      },
      "execution_count": null,
      "outputs": [
        {
          "output_type": "stream",
          "name": "stdout",
          "text": [
            "변경후: list_a =  [15, 5, 6]\n",
            "변경후: list_b =  [1, 5, 6]\n",
            "list_a와 list_b는 같은가? False\n"
          ]
        }
      ]
    },
    {
      "cell_type": "markdown",
      "source": [
        "## 5.4. 딕셔너리 "
      ],
      "metadata": {
        "id": "cgnP-Ko4aaNd"
      }
    },
    {
      "cell_type": "markdown",
      "source": [
        "###  [코드 예제 5-37: 딕셔너리 만들기] "
      ],
      "metadata": {
        "id": "loAH5Ctfc-8X"
      }
    },
    {
      "cell_type": "code",
      "source": [
        "# 딕셔너리 만들기\n",
        "dict_a = {'사과': 100, '딸기': 150, '바나나': 50} \n",
        "print(dict_a) \n",
        "# 중복된 키가 있는 경우 \n",
        "dict_b = {'사과': 100, '딸기': 150, '바나나': 50, '바나나':200} \n",
        "print(dict_b) "
      ],
      "metadata": {
        "colab": {
          "base_uri": "https://localhost:8080/"
        },
        "id": "MC3sPMdHZKgc",
        "outputId": "1ca60b6e-16d2-4ec0-e1f7-22cb71eea5a5"
      },
      "execution_count": null,
      "outputs": [
        {
          "output_type": "stream",
          "name": "stdout",
          "text": [
            "{'사과': 100, '딸기': 150, '바나나': 50}\n",
            "{'사과': 100, '딸기': 150, '바나나': 200}\n"
          ]
        }
      ]
    },
    {
      "cell_type": "markdown",
      "source": [
        "### [코드 예제 5-38: 빈 딕셔너리 만들기] "
      ],
      "metadata": {
        "id": "ptXTO2HTdA9w"
      }
    },
    {
      "cell_type": "code",
      "source": [
        "# 빈 딕셔너리 만들기 1 \n",
        "dict_c = {} \n",
        "# 빈 딕셔너리 만들기 2 \n",
        "dict_d = dict() \n",
        "print(dict_c)\n",
        "print(dict_d)"
      ],
      "metadata": {
        "colab": {
          "base_uri": "https://localhost:8080/"
        },
        "id": "7Xk5KmDHaonC",
        "outputId": "3280822d-2280-4d84-f665-8d47f3d84441"
      },
      "execution_count": null,
      "outputs": [
        {
          "output_type": "stream",
          "name": "stdout",
          "text": [
            "{}\n",
            "{}\n"
          ]
        }
      ]
    },
    {
      "cell_type": "markdown",
      "source": [
        "### [코드 예제 5-39: 딕셔너리 속 특정 키의 값 출력] "
      ],
      "metadata": {
        "id": "ikvohR73dC9V"
      }
    },
    {
      "cell_type": "code",
      "source": [
        "dict_b = {'사과': 100, '딸기': 150, '바나나':200} \n",
        "\n",
        "# 키를 인덱싱하여 값을 출력 \n",
        "print(dict_a['딸기']) \n",
        "# .get()를 사용하여 키의 값을 출력 \n",
        "print(dict_a.get('딸기')) "
      ],
      "metadata": {
        "colab": {
          "base_uri": "https://localhost:8080/"
        },
        "id": "IyONpDjVb4lE",
        "outputId": "a7bc2b94-5763-4b97-828a-d4f60789cc66"
      },
      "execution_count": null,
      "outputs": [
        {
          "output_type": "stream",
          "name": "stdout",
          "text": [
            "150\n",
            "150\n"
          ]
        }
      ]
    },
    {
      "cell_type": "markdown",
      "source": [
        "### [코드 예제 5-40: 딕셔너리에 존재하지 않는 키를 출력하는 경우] "
      ],
      "metadata": {
        "id": "OV3HtRf_vy2-"
      }
    },
    {
      "cell_type": "code",
      "metadata": {
        "id": "0BkBleTw8Qtv",
        "outputId": "5bdfabd4-16a1-4abf-dfee-de6b48c066fa",
        "colab": {
          "base_uri": "https://localhost:8080/",
          "height": 183
        }
      },
      "source": [
        "dict_b = {'사과': 100, '딸기': 150, '바나나': 50, '바나나':200} \n",
        "dict_b[0]"
      ],
      "execution_count": null,
      "outputs": [
        {
          "output_type": "error",
          "ename": "KeyError",
          "evalue": "ignored",
          "traceback": [
            "\u001b[0;31m---------------------------------------------------------------------------\u001b[0m",
            "\u001b[0;31mKeyError\u001b[0m                                  Traceback (most recent call last)",
            "\u001b[0;32m<ipython-input-1-13ebe87ec660>\u001b[0m in \u001b[0;36m<module>\u001b[0;34m()\u001b[0m\n\u001b[1;32m      1\u001b[0m \u001b[0mdict_b\u001b[0m \u001b[0;34m=\u001b[0m \u001b[0;34m{\u001b[0m\u001b[0;34m'사과'\u001b[0m\u001b[0;34m:\u001b[0m \u001b[0;36m100\u001b[0m\u001b[0;34m,\u001b[0m \u001b[0;34m'딸기'\u001b[0m\u001b[0;34m:\u001b[0m \u001b[0;36m150\u001b[0m\u001b[0;34m,\u001b[0m \u001b[0;34m'바나나'\u001b[0m\u001b[0;34m:\u001b[0m \u001b[0;36m50\u001b[0m\u001b[0;34m,\u001b[0m \u001b[0;34m'바나나'\u001b[0m\u001b[0;34m:\u001b[0m\u001b[0;36m200\u001b[0m\u001b[0;34m}\u001b[0m\u001b[0;34m\u001b[0m\u001b[0;34m\u001b[0m\u001b[0m\n\u001b[0;32m----> 2\u001b[0;31m \u001b[0mdict_b\u001b[0m\u001b[0;34m[\u001b[0m\u001b[0;36m0\u001b[0m\u001b[0;34m]\u001b[0m\u001b[0;34m\u001b[0m\u001b[0;34m\u001b[0m\u001b[0m\n\u001b[0m",
            "\u001b[0;31mKeyError\u001b[0m: 0"
          ]
        }
      ]
    },
    {
      "cell_type": "markdown",
      "source": [
        "### [코드 예제 5-41: .get()을 사용하여 딕셔너리에 존재하지 않는 키를 호출했을 때]"
      ],
      "metadata": {
        "id": "vlDsiL9dwUpU"
      }
    },
    {
      "cell_type": "code",
      "source": [
        "dict_b = {'사과': 100, '딸기': 150, '바나나': 50, '바나나':200} \n",
        "dict_b.get('파파야')"
      ],
      "metadata": {
        "id": "hEyQlSxXtHQT"
      },
      "execution_count": null,
      "outputs": []
    },
    {
      "cell_type": "markdown",
      "source": [
        "### [코드 예제 5-42: 딕셔너리에 저장된 값 살펴보기] "
      ],
      "metadata": {
        "id": "wgdTIO-owXWm"
      }
    },
    {
      "cell_type": "code",
      "source": [
        "dict_b = {'사과': 100, '딸기': 150, '바나나': 50, '바나나':200} \n",
        "print(dict_b.keys()) # 키만을 반환 \n",
        "print(dict_b.values()) # 값만을 반환 \n",
        "print(dict_b.items()) #키와 값의 쌍으로 반환 "
      ],
      "metadata": {
        "colab": {
          "base_uri": "https://localhost:8080/"
        },
        "id": "usGOVI1etx9J",
        "outputId": "a049421a-ff0b-4f40-f1d6-91d03f68d675"
      },
      "execution_count": null,
      "outputs": [
        {
          "output_type": "stream",
          "name": "stdout",
          "text": [
            "dict_keys(['사과', '딸기', '바나나'])\n",
            "dict_values([100, 150, 200])\n",
            "dict_items([('사과', 100), ('딸기', 150), ('바나나', 200)])\n"
          ]
        }
      ]
    },
    {
      "cell_type": "markdown",
      "source": [
        "## 5.5.\t딕셔너리 안의 데이터 다루기 "
      ],
      "metadata": {
        "id": "TpnOnVgT1sNA"
      }
    },
    {
      "cell_type": "markdown",
      "source": [
        "### [코드 예제 5-43: 딕셔너리에 새로운 데이터 추가하기] "
      ],
      "metadata": {
        "id": "nix_GN001qGI"
      }
    },
    {
      "cell_type": "code",
      "source": [
        "print(\"추가하기 전: \", dict_b)\n",
        "dict_b['파파야'] = 120\n",
        "print(\"추가한 후: \", dict_b)"
      ],
      "metadata": {
        "colab": {
          "base_uri": "https://localhost:8080/"
        },
        "id": "3I5Dt-PGy1yO",
        "outputId": "7d9a9616-bd44-4b50-de69-7071dfa78305"
      },
      "execution_count": null,
      "outputs": [
        {
          "output_type": "stream",
          "name": "stdout",
          "text": [
            "추가하기 전:  {'사과': 100, '딸기': 150, '바나나': 200}\n",
            "추가한 후:  {'사과': 100, '딸기': 150, '바나나': 200, '파파야': 120}\n"
          ]
        }
      ]
    },
    {
      "cell_type": "markdown",
      "source": [
        "### [코드 예제 5-44: .update()를 사용해 딕셔너리에 키와 값 추가하기] "
      ],
      "metadata": {
        "id": "Jw1Mc1wX1n84"
      }
    },
    {
      "cell_type": "code",
      "source": [
        "print(\"추가하기 전: \", dict_b)\n",
        "dict_b.update({'망고':170, '자몽':90})\n",
        "print(\"추가한 후: \", dict_b)"
      ],
      "metadata": {
        "colab": {
          "base_uri": "https://localhost:8080/"
        },
        "id": "evL4hcCmzjnq",
        "outputId": "29e124fd-7696-4bfd-c791-69074e68d9f6"
      },
      "execution_count": null,
      "outputs": [
        {
          "output_type": "stream",
          "name": "stdout",
          "text": [
            "추가하기 전:  {'사과': 100, '딸기': 150, '바나나': 200, '파파야': 120}\n",
            "추가한 후:  {'사과': 100, '딸기': 150, '바나나': 200, '파파야': 120, '망고': 170, '자몽': 90}\n"
          ]
        }
      ]
    },
    {
      "cell_type": "markdown",
      "source": [
        "### [코드 예제 5-45: 딕셔너리 안의 데이터 수정 방법의 예] "
      ],
      "metadata": {
        "id": "3A2v_qhKyzuy"
      }
    },
    {
      "cell_type": "code",
      "source": [
        "print(\"수정하기 전: \", dict_b)\n",
        "dict_b['파파야'] = 100\n",
        "print(\"수정한 후: \", dict_b)"
      ],
      "metadata": {
        "colab": {
          "base_uri": "https://localhost:8080/"
        },
        "id": "YCyWW9iDziUf",
        "outputId": "168e4ef7-c1cf-4303-8fe0-d787d9a00ae5"
      },
      "execution_count": null,
      "outputs": [
        {
          "output_type": "stream",
          "name": "stdout",
          "text": [
            "수정하기 전:  {'사과': 100, '딸기': 150, '바나나': 200, '파파야': 120, '망고': 170, '자몽': 90}\n",
            "수정한 후:  {'사과': 100, '딸기': 150, '바나나': 200, '파파야': 100, '망고': 170, '자몽': 90}\n"
          ]
        }
      ]
    },
    {
      "cell_type": "markdown",
      "source": [
        "### [코드 예제 5-46: .update()를 사용하여 딕셔너리 안의 데이터 수정하기["
      ],
      "metadata": {
        "id": "seeY50Y81j4c"
      }
    },
    {
      "cell_type": "code",
      "source": [
        "print(\"수정하기 전: \", dict_b)\n",
        "dict_b.update({'망고':100, '자몽':130})\n",
        "print(\"수정한 후: \", dict_b)"
      ],
      "metadata": {
        "colab": {
          "base_uri": "https://localhost:8080/"
        },
        "id": "7FqTf-5Iuw4h",
        "outputId": "c92b9b30-7770-485d-f62b-588f31256824"
      },
      "execution_count": null,
      "outputs": [
        {
          "output_type": "stream",
          "name": "stdout",
          "text": [
            "수정하기 전:  {'사과': 100, '딸기': 150, '바나나': 200, '파파야': 100, '망고': 170, '자몽': 90}\n",
            "수정한 후:  {'사과': 100, '딸기': 150, '바나나': 200, '파파야': 100, '망고': 100, '자몽': 130}\n"
          ]
        }
      ]
    },
    {
      "cell_type": "markdown",
      "source": [
        "### [코드 예제 5-47: .pop()을 사용해 딕셔너리안의 데이터 지우기]"
      ],
      "metadata": {
        "id": "a1KBRlYINpd7"
      }
    },
    {
      "cell_type": "code",
      "source": [
        "print(\"수정하기 전: \", dict_b)\n",
        "dict_b.pop('망고')\n",
        "print(\"수정한 후: \", dict_b)"
      ],
      "metadata": {
        "id": "RNuiDcsMxIhz",
        "colab": {
          "base_uri": "https://localhost:8080/"
        },
        "outputId": "21aa8af4-0906-4a93-9fef-8ac2a76324ff"
      },
      "execution_count": null,
      "outputs": [
        {
          "output_type": "stream",
          "name": "stdout",
          "text": [
            "수정하기 전:  {'사과': 100, '딸기': 150, '바나나': 200, '파파야': 100, '망고': 100, '자몽': 130}\n",
            "수정한 후:  {'사과': 100, '딸기': 150, '바나나': 200, '파파야': 100, '자몽': 130}\n"
          ]
        }
      ]
    },
    {
      "cell_type": "markdown",
      "source": [
        "### [코드 예제: 5-48: .clear()를 사용해 딕셔너리 안의 데이터 지우기] "
      ],
      "metadata": {
        "id": "pzo1HrUmNr1y"
      }
    },
    {
      "cell_type": "code",
      "source": [
        "print('사용 전: ', dict_b)\n",
        "dict_b.clear()\n",
        "print('사용 후: ', dict_b)"
      ],
      "metadata": {
        "colab": {
          "base_uri": "https://localhost:8080/"
        },
        "id": "leXxPo2RERsb",
        "outputId": "72d1a65b-777f-4e2d-b37b-1635737d5e95"
      },
      "execution_count": null,
      "outputs": [
        {
          "output_type": "stream",
          "name": "stdout",
          "text": [
            "사용 전:  {'사과': 100, '딸기': 150, '바나나': 200, '파파야': 100, '자몽': 130}\n",
            "사용 후:  {}\n"
          ]
        }
      ]
    },
    {
      "cell_type": "markdown",
      "source": [
        "### [코드 예제 5-49: del을 사용해 딕셔너리 지우기] "
      ],
      "metadata": {
        "id": "wacPFdv5Nu5x"
      }
    },
    {
      "cell_type": "code",
      "source": [
        "print('사용 전: ', dict_b)\n",
        "del dict_b\n",
        "print('사용 후: ', dict_b)"
      ],
      "metadata": {
        "colab": {
          "base_uri": "https://localhost:8080/",
          "height": 217
        },
        "id": "uuc2siDfJ0CJ",
        "outputId": "9d7f89a1-e4fa-48aa-8a2a-28e91b2647e6"
      },
      "execution_count": null,
      "outputs": [
        {
          "output_type": "stream",
          "name": "stdout",
          "text": [
            "사용 전:  {}\n"
          ]
        },
        {
          "output_type": "error",
          "ename": "NameError",
          "evalue": "ignored",
          "traceback": [
            "\u001b[0;31m---------------------------------------------------------------------------\u001b[0m",
            "\u001b[0;31mNameError\u001b[0m                                 Traceback (most recent call last)",
            "\u001b[0;32m<ipython-input-16-5fcf5de588ae>\u001b[0m in \u001b[0;36m<module>\u001b[0;34m()\u001b[0m\n\u001b[1;32m      1\u001b[0m \u001b[0mprint\u001b[0m\u001b[0;34m(\u001b[0m\u001b[0;34m'사용 전: '\u001b[0m\u001b[0;34m,\u001b[0m \u001b[0mdict_b\u001b[0m\u001b[0;34m)\u001b[0m\u001b[0;34m\u001b[0m\u001b[0;34m\u001b[0m\u001b[0m\n\u001b[1;32m      2\u001b[0m \u001b[0;32mdel\u001b[0m \u001b[0mdict_b\u001b[0m\u001b[0;34m\u001b[0m\u001b[0;34m\u001b[0m\u001b[0m\n\u001b[0;32m----> 3\u001b[0;31m \u001b[0mprint\u001b[0m\u001b[0;34m(\u001b[0m\u001b[0;34m'사용 후: '\u001b[0m\u001b[0;34m,\u001b[0m \u001b[0mdict_b\u001b[0m\u001b[0;34m)\u001b[0m\u001b[0;34m\u001b[0m\u001b[0;34m\u001b[0m\u001b[0m\n\u001b[0m",
            "\u001b[0;31mNameError\u001b[0m: name 'dict_b' is not defined"
          ]
        }
      ]
    },
    {
      "cell_type": "markdown",
      "source": [
        "### [코드 예제: 5-50 딕셔너리를 새로운 딕셔너리에 할당하는 경우] "
      ],
      "metadata": {
        "id": "MNV31gKANxlh"
      }
    },
    {
      "cell_type": "code",
      "source": [
        "dict_b = {'사과': 100, '딸기': 150, '바나나': 50, '바나나':200} \n",
        "\n",
        " # 딕셔너리를 새로운 딕셔너리에 할당 \n",
        "dict_c = dict_b \n",
        "\n",
        "# 새로운 데이터 추가 \n",
        "dict_c['파파야'] = 120\n",
        "\n",
        "\n",
        "# 두 딕셔너리가 같은지를 비교 \n",
        "print(\"딕셔너리 원본\", dict_b)\n",
        "print(\"딕셔너리 복제본\", dict_c)\n",
        "print(dict_c is dict_b) "
      ],
      "metadata": {
        "colab": {
          "base_uri": "https://localhost:8080/"
        },
        "id": "H-Rxgu_cJ8oa",
        "outputId": "44203249-7954-46b5-9382-a2df664d72c3"
      },
      "execution_count": null,
      "outputs": [
        {
          "output_type": "stream",
          "name": "stdout",
          "text": [
            "딕셔너리 원본 {'사과': 100, '딸기': 150, '바나나': 200, '파파야': 120}\n",
            "딕셔너리 복제본 {'사과': 100, '딸기': 150, '바나나': 200, '파파야': 120}\n",
            "True\n"
          ]
        }
      ]
    },
    {
      "cell_type": "markdown",
      "source": [
        "### [코드 예제 5-51: .copy()를 사용한 딕셔너리 복제] "
      ],
      "metadata": {
        "id": "4OsOZTaRNzip"
      }
    },
    {
      "cell_type": "code",
      "source": [
        " # 딕셔너리를 새로운 딕셔너리에 복제 \n",
        "dict_d = dict_b.copy()\n",
        "\n",
        "# 새로운 데이터 추가 \n",
        "dict_d['파파야'] = 70\n",
        "\n",
        "\n",
        "# 두 딕셔너리가 같은지를 비교 \n",
        "print(\"딕셔너리 원본\", dict_b)\n",
        "print(\"딕셔너리 복제본\", dict_d)\n",
        "print(dict_d is dict_b) "
      ],
      "metadata": {
        "colab": {
          "base_uri": "https://localhost:8080/"
        },
        "id": "kjuRTHMSLK8c",
        "outputId": "c4320892-d20e-4315-c720-4bcd9560f7ce"
      },
      "execution_count": null,
      "outputs": [
        {
          "output_type": "stream",
          "name": "stdout",
          "text": [
            "딕셔너리 원본 {'사과': 100, '딸기': 150, '바나나': 200, '파파야': 120}\n",
            "딕셔너리 복제본 {'사과': 100, '딸기': 150, '바나나': 200, '파파야': 70}\n",
            "False\n"
          ]
        }
      ]
    },
    {
      "cell_type": "markdown",
      "source": [
        "### [코드 예제 5-52: id를 사용해 딕셔너리 비교하기] "
      ],
      "metadata": {
        "id": "NaBRmsWNN2M3"
      }
    },
    {
      "cell_type": "code",
      "source": [
        "print(id(dict_b))\n",
        "print(id(dict_c))\n",
        "print(id(dict_d))"
      ],
      "metadata": {
        "colab": {
          "base_uri": "https://localhost:8080/"
        },
        "id": "nJAw5n0AMA82",
        "outputId": "9babb278-4cdc-497a-a867-12f5022043b0"
      },
      "execution_count": null,
      "outputs": [
        {
          "output_type": "stream",
          "name": "stdout",
          "text": [
            "140504992228208\n",
            "140504992228208\n",
            "140504992228288\n"
          ]
        }
      ]
    }
  ]
}