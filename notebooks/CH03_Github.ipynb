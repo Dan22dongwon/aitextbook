{
  "nbformat": 4,
  "nbformat_minor": 0,
  "metadata": {
    "colab": {
      "provenance": []
    },
    "kernelspec": {
      "name": "python3",
      "display_name": "Python 3"
    },
    "language_info": {
      "name": "python"
    }
  },
  "cells": [
    {
      "cell_type": "markdown",
      "source": [
        "# 챕터 3 실습 코드들 \n",
        "\n",
        "챕터 3의 실습에 필요한 코드 예제를 구글 코랩에서 여시려면 [링크](https://colab.research.google.com/drive/1HbCpcFtoLgeO5HIYlHhe_fg6_VA3Wa9O?usp=sharing\n",
        ")를 클릭하시거나 아래의 주소를 웹브라우저에 복사해 주세요. \n",
        "\n",
        "실습 코드 링크: https://colab.research.google.com/drive/1HbCpcFtoLgeO5HIYlHhe_fg6_VA3Wa9O?usp=sharing"
      ],
      "metadata": {
        "id": "Q9p4m-l05iRD"
      }
    },
    {
      "cell_type": "markdown",
      "source": [
        "## 3.4.\t구글 코랩에서 외부 파일 사용하기 "
      ],
      "metadata": {
        "id": "m0UXCvPX5wbA"
      }
    },
    {
      "cell_type": "markdown",
      "source": [
        "### [그림 3-1: 구글 코랩에 외부 파일을 올리기 위한 코드] "
      ],
      "metadata": {
        "id": "23aMsoFE5wHZ"
      }
    },
    {
      "cell_type": "code",
      "execution_count": null,
      "metadata": {
        "id": "p8qaDqdc5gvQ"
      },
      "outputs": [],
      "source": [
        "from google.colab import files\n",
        " \n",
        "uploaded = files.upload()\n",
        " \n",
        "for fn in uploaded.keys():\n",
        "  print('User uploaded file \"{name}\" with length {length} bytes'.format(\n",
        "     name=fn, length=len(uploaded[fn])))"
      ]
    },
    {
      "cell_type": "markdown",
      "source": [
        "### [코드 예제: 3-2: 구글 코랩에 구글 드라이브를 연결시키기 위한 코드] "
      ],
      "metadata": {
        "id": "8xQzay3O53sG"
      }
    },
    {
      "cell_type": "code",
      "source": [
        "from google.colab import drive\n",
        "drive.mount('/gdrive')"
      ],
      "metadata": {
        "id": "sorJJchn5y2d"
      },
      "execution_count": null,
      "outputs": []
    }
  ]
}