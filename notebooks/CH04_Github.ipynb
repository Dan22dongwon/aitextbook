{
  "nbformat": 4,
  "nbformat_minor": 0,
  "metadata": {
    "colab": {
      "provenance": []
    },
    "kernelspec": {
      "name": "python3",
      "display_name": "Python 3"
    },
    "language_info": {
      "name": "python"
    }
  },
  "cells": [
    {
      "cell_type": "markdown",
      "source": [
        "# 챕터 4 실습 코드들 \n",
        "\n",
        "챕터 4의 실습에 필요한 코드 예제를 구글 코랩에서 여시려면 [링크](https://colab.research.google.com/drive/1SS6wXHE1vIi4wVZb9EnnwS08Edie92vV?usp=sharing\n",
        ")를 클릭하시거나 아래의 주소를 웹브라우저에 복사해 주세요. \n",
        "\n",
        "실습 코드 링크: https://colab.research.google.com/drive/1SS6wXHE1vIi4wVZb9EnnwS08Edie92vV?usp=sharing"
      ],
      "metadata": {
        "id": "t0l3NxgQLceR"
      }
    },
    {
      "cell_type": "markdown",
      "source": [
        "## 4.1.\t“안녕, 세상아!” 출력하기"
      ],
      "metadata": {
        "id": "jDjFxAxe7B4y"
      }
    },
    {
      "cell_type": "markdown",
      "source": [
        "### [코드 예제 4-1: 잘못된 방법으로 안녕, 세상아! 출력하기1] "
      ],
      "metadata": {
        "id": "EWanxw7y7FDs"
      }
    },
    {
      "cell_type": "code",
      "metadata": {
        "colab": {
          "base_uri": "https://localhost:8080/",
          "height": 130
        },
        "id": "W1EMe7VqncR_",
        "outputId": "c3825e0e-8d78-42a2-d5cf-e3306e5b0b2b"
      },
      "source": [
        "안녕, 세상아!"
      ],
      "execution_count": null,
      "outputs": [
        {
          "output_type": "error",
          "ename": "SyntaxError",
          "evalue": "ignored",
          "traceback": [
            "\u001b[0;36m  File \u001b[0;32m\"<ipython-input-1-ee822ec48568>\"\u001b[0;36m, line \u001b[0;32m1\u001b[0m\n\u001b[0;31m    안녕, 세상아!\u001b[0m\n\u001b[0m           ^\u001b[0m\n\u001b[0;31mSyntaxError\u001b[0m\u001b[0;31m:\u001b[0m invalid syntax\n"
          ]
        }
      ]
    },
    {
      "cell_type": "markdown",
      "metadata": {
        "id": "2imkkVJYndMh"
      },
      "source": [
        "### [코드 예제 4-2: 잘못된 방법으로 안녕, 세상아! 출력하기2] "
      ]
    },
    {
      "cell_type": "code",
      "metadata": {
        "colab": {
          "base_uri": "https://localhost:8080/",
          "height": 183
        },
        "id": "96wfhA8dhXVx",
        "outputId": "e039b098-baea-43f2-ab23-81d18d397552"
      },
      "source": [
        "# print(): 파이썬이 특정 값을 출력하게 해주는 명령어 \n",
        "print(안녕, 세상아)"
      ],
      "execution_count": null,
      "outputs": [
        {
          "output_type": "error",
          "ename": "NameError",
          "evalue": "ignored",
          "traceback": [
            "\u001b[0;31m---------------------------------------------------------------------------\u001b[0m",
            "\u001b[0;31mNameError\u001b[0m                                 Traceback (most recent call last)",
            "\u001b[0;32m<ipython-input-7-6f19a8d545f6>\u001b[0m in \u001b[0;36m<module>\u001b[0;34m()\u001b[0m\n\u001b[1;32m      1\u001b[0m \u001b[0;31m# print(): 파이썬이 특정 값을 출력하게 해주는 명령어\u001b[0m\u001b[0;34m\u001b[0m\u001b[0;34m\u001b[0m\u001b[0;34m\u001b[0m\u001b[0m\n\u001b[0;32m----> 2\u001b[0;31m \u001b[0mprint\u001b[0m\u001b[0;34m(\u001b[0m\u001b[0m안녕\u001b[0m\u001b[0;34m,\u001b[0m \u001b[0m세상아\u001b[0m\u001b[0;34m)\u001b[0m\u001b[0;34m\u001b[0m\u001b[0;34m\u001b[0m\u001b[0m\n\u001b[0m",
            "\u001b[0;31mNameError\u001b[0m: name '안녕' is not defined"
          ]
        }
      ]
    },
    {
      "cell_type": "markdown",
      "metadata": {
        "id": "kHV27ud72Idn"
      },
      "source": [
        "### [코드 예제 4-3: 안녕 세상아 출력하기] "
      ]
    },
    {
      "cell_type": "code",
      "metadata": {
        "colab": {
          "base_uri": "https://localhost:8080/"
        },
        "id": "-lOJfc9Gt83p",
        "outputId": "ae38ef3b-eb84-4138-f757-21198679e7cb"
      },
      "source": [
        "print('안녕, 세상아!')"
      ],
      "execution_count": null,
      "outputs": [
        {
          "output_type": "stream",
          "text": [
            "안녕, 세상아!\n"
          ],
          "name": "stdout"
        }
      ]
    },
    {
      "cell_type": "markdown",
      "metadata": {
        "id": "csSkqZ6r2Ido"
      },
      "source": [
        "### [코드 예제 4-4: 잘못된 방법으로 안녕, 세상아! 출력하기3] "
      ]
    },
    {
      "cell_type": "code",
      "metadata": {
        "colab": {
          "base_uri": "https://localhost:8080/",
          "height": 130
        },
        "id": "3JPijtyqhV_n",
        "outputId": "ee24ce57-2b87-4e19-ef3a-f3b79094ac5d"
      },
      "source": [
        "print '안녕, 세상아'"
      ],
      "execution_count": null,
      "outputs": [
        {
          "output_type": "error",
          "ename": "SyntaxError",
          "evalue": "ignored",
          "traceback": [
            "\u001b[0;36m  File \u001b[0;32m\"<ipython-input-3-a9ba197a2196>\"\u001b[0;36m, line \u001b[0;32m1\u001b[0m\n\u001b[0;31m    print '안녕, 세상아'\u001b[0m\n\u001b[0m                  ^\u001b[0m\n\u001b[0;31mSyntaxError\u001b[0m\u001b[0;31m:\u001b[0m Missing parentheses in call to 'print'. Did you mean print('안녕, 세상아')?\n"
          ]
        }
      ]
    },
    {
      "cell_type": "markdown",
      "metadata": {
        "id": "OZ6t-Vpg2Ido"
      },
      "source": [
        "### [코드 예제 4-5: 안녕과 세상아 속 데이터를 출력하기] "
      ]
    },
    {
      "cell_type": "code",
      "metadata": {
        "colab": {
          "base_uri": "https://localhost:8080/"
        },
        "id": "hC8R7J2nhZJQ",
        "outputId": "19082fd6-c67c-4375-96d1-bd7690903a80"
      },
      "source": [
        "안녕 = '인공지능' # 안녕이라는 변수에 `인공지능`저장\n",
        "세상아 = \"안녕!\" #세상아라는 변수에 `안녕!` 저장\n",
        "print(안녕, 세상아) # 안녕, 세상아라는 변수에 저장된 값을 출력하기 "
      ],
      "execution_count": null,
      "outputs": [
        {
          "output_type": "stream",
          "text": [
            "인공지능 안녕!\n"
          ],
          "name": "stdout"
        }
      ]
    },
    {
      "cell_type": "markdown",
      "source": [
        "### [코드 예제 4-6: 잘 못된 주석 사용의 예 1] "
      ],
      "metadata": {
        "id": "4yVW949j_DkH"
      }
    },
    {
      "cell_type": "code",
      "metadata": {
        "colab": {
          "base_uri": "https://localhost:8080/",
          "height": 130
        },
        "id": "n5eVKtsmz19q",
        "outputId": "514ddf6b-8d96-4a1e-cbb6-6489bd98de28"
      },
      "source": [
        "코드 내에 설명을 달고 싶으면 어떻게 하면 될까요? "
      ],
      "execution_count": null,
      "outputs": [
        {
          "output_type": "error",
          "ename": "SyntaxError",
          "evalue": "ignored",
          "traceback": [
            "\u001b[0;36m  File \u001b[0;32m\"<ipython-input-8-945c0ee1e296>\"\u001b[0;36m, line \u001b[0;32m1\u001b[0m\n\u001b[0;31m    코드 내에 설명을 달고 싶으면 어떻게 하면 될까요?\u001b[0m\n\u001b[0m        ^\u001b[0m\n\u001b[0;31mSyntaxError\u001b[0m\u001b[0;31m:\u001b[0m invalid syntax\n"
          ]
        }
      ]
    },
    {
      "cell_type": "markdown",
      "source": [
        "### [코드 예제 4-7: 올바른 주석 사용의 예 1] "
      ],
      "metadata": {
        "id": "cEC5IqU0B-P0"
      }
    },
    {
      "cell_type": "code",
      "metadata": {
        "id": "z2ER5LJ20Ro2"
      },
      "source": [
        "# 코드 내에 설명을 달 수 있습니다. # 이후의 부분은 무시됩니다. "
      ],
      "execution_count": null,
      "outputs": []
    },
    {
      "cell_type": "markdown",
      "source": [
        "### [코드 예제 4-8: 잘 못된 주석 사용의 예 2] "
      ],
      "metadata": {
        "id": "8ds0zUvuCFXo"
      }
    },
    {
      "cell_type": "code",
      "metadata": {
        "id": "8FPLhfQu2Idq",
        "outputId": "c7585e05-dcc1-4ced-e738-f61a9b59440b",
        "colab": {
          "base_uri": "https://localhost:8080/",
          "height": 130
        }
      },
      "source": [
        "# `#`을 사용하여 주석을 달면 그 줄에만 해당되고\n",
        "그 이후의 줄부터는 코드로 인식됩니다  "
      ],
      "execution_count": null,
      "outputs": [
        {
          "output_type": "error",
          "ename": "SyntaxError",
          "evalue": "ignored",
          "traceback": [
            "\u001b[0;36m  File \u001b[0;32m\"<ipython-input-10-d0d0592b0c78>\"\u001b[0;36m, line \u001b[0;32m2\u001b[0m\n\u001b[0;31m    그 이후의 줄부터는 코드로 인식됩니다\u001b[0m\n\u001b[0m        ^\u001b[0m\n\u001b[0;31mSyntaxError\u001b[0m\u001b[0;31m:\u001b[0m invalid syntax\n"
          ]
        }
      ]
    },
    {
      "cell_type": "markdown",
      "source": [
        "### [코드 예제 4-9: 올바른 주석 사용의 예 2] "
      ],
      "metadata": {
        "id": "4T0NcgTeCF6X"
      }
    },
    {
      "cell_type": "code",
      "metadata": {
        "colab": {
          "base_uri": "https://localhost:8080/"
        },
        "id": "gTOUUBGV0XNR",
        "outputId": "ca0ed82b-6358-40d9-e943-666c88a8b6be"
      },
      "source": [
        "print('안녕, 세상아') # 코드 이후 주석 달기 \n"
      ],
      "execution_count": null,
      "outputs": [
        {
          "output_type": "stream",
          "name": "stdout",
          "text": [
            "안녕, 세상아\n"
          ]
        }
      ]
    },
    {
      "cell_type": "markdown",
      "source": [
        "## 4.2.\t파이썬을 사용해 계산 결과 출력하기 "
      ],
      "metadata": {
        "id": "zKO4N5IbIhwO"
      }
    },
    {
      "cell_type": "markdown",
      "source": [
        "### [코드 예제 4-10: 파이썬에서 사칙 연산 사용하기의 예 1] "
      ],
      "metadata": {
        "id": "iGSO3Ru5FSKh"
      }
    },
    {
      "cell_type": "code",
      "metadata": {
        "colab": {
          "base_uri": "https://localhost:8080/"
        },
        "id": "AAGCnabVjMUS",
        "outputId": "415359f6-ed2f-44e8-cdcf-be6f9092792b"
      },
      "source": [
        "25+25"
      ],
      "execution_count": null,
      "outputs": [
        {
          "output_type": "execute_result",
          "data": {
            "text/plain": [
              "50"
            ]
          },
          "metadata": {},
          "execution_count": 16
        }
      ]
    },
    {
      "cell_type": "markdown",
      "source": [
        "### [코드 예제 4-11: 파이썬에서 사칙 연산 사용하기의 예 2] "
      ],
      "metadata": {
        "id": "OEXpIdgtKykR"
      }
    },
    {
      "cell_type": "code",
      "source": [
        "5*5"
      ],
      "metadata": {
        "colab": {
          "base_uri": "https://localhost:8080/"
        },
        "id": "qTIaLWR2KzME",
        "outputId": "040ae9dc-0838-4002-abf3-aa12f56b9846"
      },
      "execution_count": null,
      "outputs": [
        {
          "output_type": "execute_result",
          "data": {
            "text/plain": [
              "25"
            ]
          },
          "metadata": {},
          "execution_count": 17
        }
      ]
    },
    {
      "cell_type": "markdown",
      "source": [
        "### [코드 예제 4-12: 마지막 계산 결과만 출력되는 코드의 예] "
      ],
      "metadata": {
        "id": "hNcaBUe-Im2l"
      }
    },
    {
      "cell_type": "code",
      "metadata": {
        "colab": {
          "base_uri": "https://localhost:8080/"
        },
        "id": "USzdnWy-jXDv",
        "outputId": "fd583d83-6de5-4ffb-a0ae-c96a0a5ef9fa"
      },
      "source": [
        "# 마지막 값만 출력됩니다. \n",
        "10+3\n",
        "10/2"
      ],
      "execution_count": null,
      "outputs": [
        {
          "output_type": "execute_result",
          "data": {
            "text/plain": [
              "5.0"
            ]
          },
          "metadata": {
            "tags": []
          },
          "execution_count": 20
        }
      ]
    },
    {
      "cell_type": "markdown",
      "source": [
        "### [코드 예제 4-13: 여러 계산 값을 출력하는 코드의 예] "
      ],
      "metadata": {
        "id": "844Sh6ahK83t"
      }
    },
    {
      "cell_type": "code",
      "metadata": {
        "colab": {
          "base_uri": "https://localhost:8080/"
        },
        "id": "98PK0QFXjgoh",
        "outputId": "73fb8dac-bdf0-4324-b662-766c07fc116b"
      },
      "source": [
        "# 매번 연산의 결과가 출력됩니다. \n",
        "print(10+3)\n",
        "print(10/2)"
      ],
      "execution_count": null,
      "outputs": [
        {
          "output_type": "stream",
          "text": [
            "13\n",
            "5.0\n"
          ],
          "name": "stdout"
        }
      ]
    },
    {
      "cell_type": "markdown",
      "source": [
        "### [코드 예제: 4-14: 파이썬의 데이터 형태-정수] "
      ],
      "metadata": {
        "id": "_YqtSgIWKIll"
      }
    },
    {
      "cell_type": "code",
      "metadata": {
        "colab": {
          "base_uri": "https://localhost:8080/"
        },
        "id": "nCRBpXD-rN-f",
        "outputId": "a6e53894-3338-4c4d-f366-fc82cb675fd0"
      },
      "source": [
        "type(10) # "
      ],
      "execution_count": null,
      "outputs": [
        {
          "output_type": "execute_result",
          "data": {
            "text/plain": [
              "int"
            ]
          },
          "metadata": {},
          "execution_count": 1
        }
      ]
    },
    {
      "cell_type": "markdown",
      "source": [
        "### [코드 예제: 4-15: 파이썬의 데이터 형태-실수]"
      ],
      "metadata": {
        "id": "ojx5SnBXKPIk"
      }
    },
    {
      "cell_type": "code",
      "metadata": {
        "colab": {
          "base_uri": "https://localhost:8080/"
        },
        "id": "rt47Qodqrlz2",
        "outputId": "988f0b87-4e25-45b6-bb80-6432578ed7c7"
      },
      "source": [
        "type(10.0)"
      ],
      "execution_count": null,
      "outputs": [
        {
          "output_type": "execute_result",
          "data": {
            "text/plain": [
              "float"
            ]
          },
          "metadata": {},
          "execution_count": 3
        }
      ]
    },
    {
      "cell_type": "markdown",
      "source": [
        "### [코드 예제: 4-16: 파이썬의 데이터 형태-논리] "
      ],
      "metadata": {
        "id": "Ef8kwsx6KTge"
      }
    },
    {
      "cell_type": "code",
      "metadata": {
        "colab": {
          "base_uri": "https://localhost:8080/"
        },
        "id": "w1kTXmy5rne6",
        "outputId": "1309b11d-e70e-4025-d41b-271c4359b4c2"
      },
      "source": [
        "type(10==10)"
      ],
      "execution_count": null,
      "outputs": [
        {
          "output_type": "execute_result",
          "data": {
            "text/plain": [
              "bool"
            ]
          },
          "metadata": {
            "tags": []
          },
          "execution_count": 24
        }
      ]
    },
    {
      "cell_type": "markdown",
      "source": [
        "### [코드 예제: 4-17: 파이썬의 데이터 형태-문자열] "
      ],
      "metadata": {
        "id": "_3OnHJW2KblP"
      }
    },
    {
      "cell_type": "code",
      "metadata": {
        "colab": {
          "base_uri": "https://localhost:8080/"
        },
        "id": "k0tdaS0hrsHJ",
        "outputId": "d4d2e364-4e2d-4c39-dce9-89f36dd975cf"
      },
      "source": [
        "type('10')"
      ],
      "execution_count": null,
      "outputs": [
        {
          "output_type": "execute_result",
          "data": {
            "text/plain": [
              "str"
            ]
          },
          "metadata": {
            "tags": []
          },
          "execution_count": 26
        }
      ]
    },
    {
      "cell_type": "markdown",
      "source": [
        "### [코드 예제 4-18: 문자열에서의 큰 따옴표와 작은 따옴표 사용] "
      ],
      "metadata": {
        "id": "-yAsN-2-N_NI"
      }
    },
    {
      "cell_type": "code",
      "metadata": {
        "colab": {
          "base_uri": "https://localhost:8080/"
        },
        "id": "lmCkSZuC31mB",
        "outputId": "2fa10a2d-f205-4cfc-890e-842ba9b6e6b0"
      },
      "source": [
        "# 문자열 내에 따옴표가 문자로 인식되어 있는 경우 \n",
        "print('\"문자열 내에 큰 따옴표가 있는 경우\" 작은 따옴표 안에 사용하면 제대로 인식합니다') \n",
        "\n",
        "# 문자열 내에 따옴표가 문자로 인식되어 있는 경우 \n",
        "print(\"'문자열 내에 큰 따옴표가 있는 경우' 작은 따옴표 안에 사용하면 제대로 인식합니다\") "
      ],
      "execution_count": null,
      "outputs": [
        {
          "output_type": "stream",
          "text": [
            "\"문자열 내에 큰 따옴표가 있는 경우\" 작은 따옴표 안에 사용하면 제대로 인식합니다\n",
            "'문자열 내에 큰 따옴표가 있는 경우' 작은 따옴표 안에 사용하면 제대로 인식합니다\n"
          ],
          "name": "stdout"
        }
      ]
    },
    {
      "cell_type": "markdown",
      "metadata": {
        "id": "ITH9k6KeDolz"
      },
      "source": [
        "### [코드 예제 4-19: 따옴표를 잘 못 사용하면 발생하는 에러의 예] "
      ]
    },
    {
      "cell_type": "code",
      "metadata": {
        "colab": {
          "base_uri": "https://localhost:8080/",
          "height": 130
        },
        "id": "9M2a1eUo4MgP",
        "outputId": "ff8f9ec9-f177-4e8b-873b-d0db24573df0"
      },
      "source": [
        "# 작은 따옴표를 여러 개 사용하는 경우 \n",
        "print('작은 따옴표(')를 여러 개 사용하면 문자열을 제대로 인식하지 못합니다')"
      ],
      "execution_count": null,
      "outputs": [
        {
          "output_type": "error",
          "ename": "SyntaxError",
          "evalue": "ignored",
          "traceback": [
            "\u001b[0;36m  File \u001b[0;32m\"<ipython-input-31-7a67b9836594>\"\u001b[0;36m, line \u001b[0;32m3\u001b[0m\n\u001b[0;31m    print(''문자열 내에 큰 따옴표가 있는 경우' 작은 따옴표 안에 사용하면 제대로 인식합니다')\u001b[0m\n\u001b[0m              ^\u001b[0m\n\u001b[0;31mSyntaxError\u001b[0m\u001b[0;31m:\u001b[0m invalid syntax\n"
          ]
        }
      ]
    },
    {
      "cell_type": "markdown",
      "source": [
        "### [코드 예제 4-20: 문자열과 실수의 덧셈] "
      ],
      "metadata": {
        "id": "FyDuQaJC4Xg_"
      }
    },
    {
      "cell_type": "code",
      "metadata": {
        "colab": {
          "base_uri": "https://localhost:8080/",
          "height": 181
        },
        "id": "zuWwWxtbr1iL",
        "outputId": "20db4f77-5c98-4ab0-fb97-0d229cb6a5a4"
      },
      "source": [
        "# \n",
        "10.0 + '10'"
      ],
      "execution_count": null,
      "outputs": [
        {
          "output_type": "error",
          "ename": "TypeError",
          "evalue": "ignored",
          "traceback": [
            "\u001b[0;31m---------------------------------------------------------------------------\u001b[0m",
            "\u001b[0;31mTypeError\u001b[0m                                 Traceback (most recent call last)",
            "\u001b[0;32m<ipython-input-35-3894921e8b44>\u001b[0m in \u001b[0;36m<module>\u001b[0;34m()\u001b[0m\n\u001b[1;32m      1\u001b[0m \u001b[0;31m# 정수, 실수는 문자열과 연산이 불가능\u001b[0m\u001b[0;34m\u001b[0m\u001b[0;34m\u001b[0m\u001b[0;34m\u001b[0m\u001b[0m\n\u001b[0;32m----> 2\u001b[0;31m \u001b[0;36m10.0\u001b[0m \u001b[0;34m+\u001b[0m \u001b[0;34m'10'\u001b[0m\u001b[0;34m\u001b[0m\u001b[0;34m\u001b[0m\u001b[0m\n\u001b[0m",
            "\u001b[0;31mTypeError\u001b[0m: unsupported operand type(s) for +: 'float' and 'str'"
          ]
        }
      ]
    },
    {
      "cell_type": "markdown",
      "source": [
        "### [코드 예제 4-21: 문자열과 수의 뺄셈] "
      ],
      "metadata": {
        "id": "Aow_qkSA6k6s"
      }
    },
    {
      "cell_type": "code",
      "source": [
        "10.0 - '10'"
      ],
      "metadata": {
        "colab": {
          "base_uri": "https://localhost:8080/",
          "height": 183
        },
        "id": "4CNo5xtI4tUu",
        "outputId": "7d247ecb-74f4-4a14-d7c4-623c99f07660"
      },
      "execution_count": null,
      "outputs": [
        {
          "output_type": "error",
          "ename": "TypeError",
          "evalue": "ignored",
          "traceback": [
            "\u001b[0;31m---------------------------------------------------------------------------\u001b[0m",
            "\u001b[0;31mTypeError\u001b[0m                                 Traceback (most recent call last)",
            "\u001b[0;32m<ipython-input-2-c3f0e14451b3>\u001b[0m in \u001b[0;36m<module>\u001b[0;34m()\u001b[0m\n\u001b[1;32m      1\u001b[0m \u001b[0;31m# 정수, 실수는 문자열을 더할 수 없음\u001b[0m\u001b[0;34m\u001b[0m\u001b[0;34m\u001b[0m\u001b[0;34m\u001b[0m\u001b[0m\n\u001b[0;32m----> 2\u001b[0;31m \u001b[0;36m10.0\u001b[0m \u001b[0;34m-\u001b[0m \u001b[0;34m'10'\u001b[0m\u001b[0;34m\u001b[0m\u001b[0;34m\u001b[0m\u001b[0m\n\u001b[0m",
            "\u001b[0;31mTypeError\u001b[0m: unsupported operand type(s) for -: 'float' and 'str'"
          ]
        }
      ]
    },
    {
      "cell_type": "markdown",
      "source": [
        "[코드 예제 4-22: 문자열과 숫자의 곱셈\""
      ],
      "metadata": {
        "id": "xPf0PABBqAut"
      }
    },
    {
      "cell_type": "code",
      "source": [
        "'10' * 10"
      ],
      "metadata": {
        "colab": {
          "base_uri": "https://localhost:8080/",
          "height": 36
        },
        "id": "2w7H_29Hp_Mv",
        "outputId": "b0cd4e18-4a04-4100-9d9a-b9dbf8a02bb8"
      },
      "execution_count": 1,
      "outputs": [
        {
          "output_type": "execute_result",
          "data": {
            "text/plain": [
              "'10101010101010101010'"
            ],
            "application/vnd.google.colaboratory.intrinsic+json": {
              "type": "string"
            }
          },
          "metadata": {},
          "execution_count": 1
        }
      ]
    },
    {
      "cell_type": "markdown",
      "source": [
        "### [코드 예제 4-23: 두 문자열 간의 덧셈] "
      ],
      "metadata": {
        "id": "Xm5ttww8-HRf"
      }
    },
    {
      "cell_type": "code",
      "source": [
        "\"인공\"+\"지능\""
      ],
      "metadata": {
        "colab": {
          "base_uri": "https://localhost:8080/",
          "height": 35
        },
        "id": "P6jsH6U9-Hwy",
        "outputId": "d67a57c4-0298-43af-c890-2b9dfd4ffe62"
      },
      "execution_count": null,
      "outputs": [
        {
          "output_type": "execute_result",
          "data": {
            "application/vnd.google.colaboratory.intrinsic+json": {
              "type": "string"
            },
            "text/plain": [
              "'인공지능'"
            ]
          },
          "metadata": {},
          "execution_count": 4
        }
      ]
    },
    {
      "cell_type": "markdown",
      "source": [
        "### [코드 예제 4-24: 논리값의 연산]\n"
      ],
      "metadata": {
        "id": "GuvOxrfW6n24"
      }
    },
    {
      "cell_type": "code",
      "metadata": {
        "colab": {
          "base_uri": "https://localhost:8080/"
        },
        "id": "rzRdIPuVslYx",
        "outputId": "2d4f9639-a82d-4b1e-9fec-2cf023f36333"
      },
      "source": [
        "# True 가 1의 값을 각기 때문에 나누는 경우 1이 됩니다. \n",
        "print((True + True)/2)\n",
        "\n",
        "# False는 0의 값을 갖기 때문에 숫자를 더해도 변화가 없습니다. \n",
        "print(False + 10)\n",
        "\n",
        "# True는 1의 값을 갖음으로 숫자를 더하면 값이 변합니다. \n",
        "print(True + 10)"
      ],
      "execution_count": null,
      "outputs": [
        {
          "output_type": "stream",
          "name": "stdout",
          "text": [
            "1.0\n",
            "10\n",
            "11\n"
          ]
        }
      ]
    },
    {
      "cell_type": "markdown",
      "source": [
        "### [코드 예제 4-25: 큰 숫자의 표시] "
      ],
      "metadata": {
        "id": "tnL9ofcx_fd_"
      }
    },
    {
      "cell_type": "code",
      "metadata": {
        "colab": {
          "base_uri": "https://localhost:8080/"
        },
        "id": "iyZ1F9axwR9q",
        "outputId": "f5992c0a-406e-4c16-a913-de57f0e3c038"
      },
      "source": [
        "200000000000000000.0"
      ],
      "execution_count": null,
      "outputs": [
        {
          "output_type": "execute_result",
          "data": {
            "text/plain": [
              "2e+17"
            ]
          },
          "metadata": {
            "tags": []
          },
          "execution_count": 43
        }
      ]
    },
    {
      "cell_type": "markdown",
      "metadata": {
        "id": "EeAaRkpnwtql"
      },
      "source": [
        "###[코드 예제 4-26: 작은 숫자의 표시]"
      ]
    },
    {
      "cell_type": "code",
      "metadata": {
        "colab": {
          "base_uri": "https://localhost:8080/"
        },
        "id": "PboFdLvEwYQ5",
        "outputId": "fd62172a-0c3f-47e6-d09f-80be2af782c4"
      },
      "source": [
        "1*.0000000000000001"
      ],
      "execution_count": null,
      "outputs": [
        {
          "output_type": "execute_result",
          "data": {
            "text/plain": [
              "1e-16"
            ]
          },
          "metadata": {
            "tags": []
          },
          "execution_count": 46
        }
      ]
    },
    {
      "cell_type": "markdown",
      "metadata": {
        "id": "x2mMAYNMxBlg"
      },
      "source": [
        "###[코드 예제 4-27: 아주 큰 숫자의 표시]"
      ]
    },
    {
      "cell_type": "code",
      "metadata": {
        "colab": {
          "base_uri": "https://localhost:8080/"
        },
        "id": "2qGhR36TwdLM",
        "outputId": "0ac63603-55a3-4c2c-cd5b-5c7958c4412f"
      },
      "source": [
        "1e400"
      ],
      "execution_count": null,
      "outputs": [
        {
          "output_type": "execute_result",
          "data": {
            "text/plain": [
              "inf"
            ]
          },
          "metadata": {
            "tags": []
          },
          "execution_count": 47
        }
      ]
    },
    {
      "cell_type": "markdown",
      "source": [
        "### [코드 예제 4-28: bool()의 결과값 예시]"
      ],
      "metadata": {
        "id": "hxMR1ABaCmAV"
      }
    },
    {
      "cell_type": "code",
      "metadata": {
        "colab": {
          "base_uri": "https://localhost:8080/"
        },
        "id": "PgykG7gVyqdd",
        "outputId": "b5a713b8-5b3f-46d8-8249-f5c540894359"
      },
      "source": [
        "# bool()의 결과값이 True 인 경우 \n",
        "print(bool(1))\n",
        "print(bool(-1.1))\n",
        "print(bool(\"1\"))\n",
        "print(bool(\"true\"))\n",
        "print(bool(\"False\"))\n",
        "print(bool(1==1))\n",
        "\n",
        "# bool()의 결과값이 False이 경우\n",
        "print(bool(\"\"))\n",
        "print(bool(0))"
      ],
      "execution_count": null,
      "outputs": [
        {
          "output_type": "stream",
          "name": "stdout",
          "text": [
            "True\n",
            "True\n",
            "True\n",
            "True\n",
            "True\n",
            "True\n",
            "False\n",
            "False\n"
          ]
        }
      ]
    },
    {
      "cell_type": "markdown",
      "source": [
        "### [코드 예제 4-29: int() 변환 예제] "
      ],
      "metadata": {
        "id": "Asfn2cuYD_9i"
      }
    },
    {
      "cell_type": "code",
      "metadata": {
        "colab": {
          "base_uri": "https://localhost:8080/"
        },
        "id": "P1-xgR3q2WFe",
        "outputId": "5c149e47-b48b-49bd-f703-19f8677b247d"
      },
      "source": [
        "print(int(True))\n",
        "print(int(False))\n",
        "print(int(10.5))\n",
        "print(int(\"1\"))"
      ],
      "execution_count": null,
      "outputs": [
        {
          "output_type": "stream",
          "name": "stdout",
          "text": [
            "1\n",
            "0\n",
            "10\n",
            "1\n"
          ]
        }
      ]
    },
    {
      "cell_type": "markdown",
      "source": [
        "### [코드 예제 4-30: 실수인 문자열을 int()로 변환하기] "
      ],
      "metadata": {
        "id": "HWcqw_-THge8"
      }
    },
    {
      "cell_type": "code",
      "metadata": {
        "colab": {
          "base_uri": "https://localhost:8080/",
          "height": 165
        },
        "id": "M5ISi4e62g5F",
        "outputId": "b269d42c-985f-463d-8942-7e0087b2490a"
      },
      "source": [
        "int(\"10.5\")"
      ],
      "execution_count": null,
      "outputs": [
        {
          "output_type": "error",
          "ename": "ValueError",
          "evalue": "ignored",
          "traceback": [
            "\u001b[0;31m---------------------------------------------------------------------------\u001b[0m",
            "\u001b[0;31mValueError\u001b[0m                                Traceback (most recent call last)",
            "\u001b[0;32m<ipython-input-27-54dd49a25c21>\u001b[0m in \u001b[0;36m<module>\u001b[0;34m()\u001b[0m\n\u001b[0;32m----> 1\u001b[0;31m \u001b[0mint\u001b[0m\u001b[0;34m(\u001b[0m\u001b[0;34m\"10.5\"\u001b[0m\u001b[0;34m)\u001b[0m\u001b[0;34m\u001b[0m\u001b[0;34m\u001b[0m\u001b[0m\n\u001b[0m",
            "\u001b[0;31mValueError\u001b[0m: invalid literal for int() with base 10: '10.5'"
          ]
        }
      ]
    },
    {
      "cell_type": "markdown",
      "source": [
        "### [코드 예제 4-31: 문자열을 int()로 변환하기]"
      ],
      "metadata": {
        "id": "CgUsdXHvHhGv"
      }
    },
    {
      "cell_type": "code",
      "source": [
        "int(\"ten\")"
      ],
      "metadata": {
        "colab": {
          "base_uri": "https://localhost:8080/",
          "height": 165
        },
        "id": "4pMZRQCaHd6f",
        "outputId": "825c59af-5d09-4efc-a409-e926e4d9cf8c"
      },
      "execution_count": null,
      "outputs": [
        {
          "output_type": "error",
          "ename": "ValueError",
          "evalue": "ignored",
          "traceback": [
            "\u001b[0;31m---------------------------------------------------------------------------\u001b[0m",
            "\u001b[0;31mValueError\u001b[0m                                Traceback (most recent call last)",
            "\u001b[0;32m<ipython-input-28-846b3cf4a083>\u001b[0m in \u001b[0;36m<module>\u001b[0;34m()\u001b[0m\n\u001b[0;32m----> 1\u001b[0;31m \u001b[0mint\u001b[0m\u001b[0;34m(\u001b[0m\u001b[0;34m\"ten\"\u001b[0m\u001b[0;34m)\u001b[0m\u001b[0;34m\u001b[0m\u001b[0;34m\u001b[0m\u001b[0m\n\u001b[0m",
            "\u001b[0;31mValueError\u001b[0m: invalid literal for int() with base 10: 'ten'"
          ]
        }
      ]
    },
    {
      "cell_type": "markdown",
      "source": [
        "### [코드 예제 4-32: float() 변환 예제] "
      ],
      "metadata": {
        "id": "WUY06w3vJD70"
      }
    },
    {
      "cell_type": "code",
      "metadata": {
        "colab": {
          "base_uri": "https://localhost:8080/"
        },
        "id": "7-ga3I1K2pLp",
        "outputId": "f7264b2f-f2ee-4886-9a4a-eec4673aa3da"
      },
      "source": [
        "print(float(True))\n",
        "print(float(False))\n",
        "print(float(10))\n",
        "print(float(\"10\"))\n",
        "print(float(\"10.5\"))"
      ],
      "execution_count": null,
      "outputs": [
        {
          "output_type": "stream",
          "name": "stdout",
          "text": [
            "1.0\n",
            "0.0\n",
            "10.0\n",
            "10.0\n",
            "10.5\n"
          ]
        }
      ]
    },
    {
      "cell_type": "markdown",
      "source": [
        "### [코드 예제 4-33: 문자열을 float()로 변환한 경우] "
      ],
      "metadata": {
        "id": "N7j5_nrVJKzU"
      }
    },
    {
      "cell_type": "code",
      "source": [
        "float(\"ten\")"
      ],
      "metadata": {
        "colab": {
          "base_uri": "https://localhost:8080/",
          "height": 165
        },
        "id": "mpKrsjMhJLTJ",
        "outputId": "a4b5d5cd-b487-4d0b-affb-18b98a1d8652"
      },
      "execution_count": null,
      "outputs": [
        {
          "output_type": "error",
          "ename": "ValueError",
          "evalue": "ignored",
          "traceback": [
            "\u001b[0;31m---------------------------------------------------------------------------\u001b[0m",
            "\u001b[0;31mValueError\u001b[0m                                Traceback (most recent call last)",
            "\u001b[0;32m<ipython-input-31-c8abde1341af>\u001b[0m in \u001b[0;36m<module>\u001b[0;34m()\u001b[0m\n\u001b[0;32m----> 1\u001b[0;31m \u001b[0mfloat\u001b[0m\u001b[0;34m(\u001b[0m\u001b[0;34m\"ten\"\u001b[0m\u001b[0;34m)\u001b[0m\u001b[0;34m\u001b[0m\u001b[0;34m\u001b[0m\u001b[0m\n\u001b[0m",
            "\u001b[0;31mValueError\u001b[0m: could not convert string to float: 'ten'"
          ]
        }
      ]
    },
    {
      "cell_type": "markdown",
      "source": [
        "### [코드 예제 4-34: str()을 사용한 데이터 값 변환] "
      ],
      "metadata": {
        "id": "N20pqI1vJrlH"
      }
    },
    {
      "cell_type": "code",
      "source": [
        "print(str(True))\n",
        "print(str(False))\n",
        "print(str(10))\n",
        "print(str(10.5))"
      ],
      "metadata": {
        "colab": {
          "base_uri": "https://localhost:8080/"
        },
        "id": "topxXs25JN03",
        "outputId": "01054b66-5188-466f-861c-07dac19b6459"
      },
      "execution_count": null,
      "outputs": [
        {
          "output_type": "stream",
          "name": "stdout",
          "text": [
            "True\n",
            "False\n",
            "10\n",
            "10.5\n"
          ]
        }
      ]
    },
    {
      "cell_type": "markdown",
      "source": [
        "### [코드 예제 4-35: 인덱싱의 예제 1]"
      ],
      "metadata": {
        "id": "eJJCFyBQ28qN"
      }
    },
    {
      "cell_type": "code",
      "metadata": {
        "colab": {
          "base_uri": "https://localhost:8080/"
        },
        "id": "Mioliu_CdlR2",
        "outputId": "f8f526c5-dd5b-43e2-8049-02cb80afaa7d"
      },
      "source": [
        "words = '인공지능의 기초개념'\n",
        "# 변수의 1번째 위치에 있는 문자 출력\n",
        "print(words[1]) "
      ],
      "execution_count": null,
      "outputs": [
        {
          "output_type": "stream",
          "name": "stdout",
          "text": [
            "공\n"
          ]
        }
      ]
    },
    {
      "cell_type": "markdown",
      "source": [
        "### [코드 예제 4-36: 인덱싱의 예제 2]"
      ],
      "metadata": {
        "id": "9NOv1vIF26Rr"
      }
    },
    {
      "cell_type": "code",
      "metadata": {
        "colab": {
          "base_uri": "https://localhost:8080/"
        },
        "id": "S89JVrrdhuIp",
        "outputId": "ea864841-df18-4c3b-b3c5-cc8e57a6be88"
      },
      "source": [
        " #문자열의 길이 출력\n",
        " print(words[0]) "
      ],
      "execution_count": null,
      "outputs": [
        {
          "output_type": "stream",
          "name": "stdout",
          "text": [
            "인\n"
          ]
        }
      ]
    },
    {
      "cell_type": "markdown",
      "source": [
        "### [코드 예제 4-37: 문자열의 길이 출력] \n",
        "\n",
        "\n",
        "\n"
      ],
      "metadata": {
        "id": "vNgOvDpy3PhL"
      }
    },
    {
      "cell_type": "code",
      "metadata": {
        "colab": {
          "base_uri": "https://localhost:8080/"
        },
        "id": "uwaK1CSUeXXk",
        "outputId": "4e1902b0-f9ca-44b3-bf7c-ecf493278156"
      },
      "source": [
        " #words내의 문자 갯수를 출력\n",
        "len(words)"
      ],
      "execution_count": null,
      "outputs": [
        {
          "output_type": "execute_result",
          "data": {
            "text/plain": [
              "10"
            ]
          },
          "metadata": {},
          "execution_count": 6
        }
      ]
    },
    {
      "cell_type": "markdown",
      "source": [
        "### [코드 예제 4-38: 문자열의 길이보단 긴 곳을 인덱싱하려 할 때 발생하는 에러의 예] "
      ],
      "metadata": {
        "id": "Ki9qFGnp4EjB"
      }
    },
    {
      "cell_type": "code",
      "metadata": {
        "colab": {
          "base_uri": "https://localhost:8080/",
          "height": 180
        },
        "id": "WjfdtOWsfLMd",
        "outputId": "ebdb7d15-3eef-425b-a015-d71981ae420a"
      },
      "source": [
        "# 문자열의 길이보다 긴 위치를 인덱싱하는 경우 \n",
        "words[10] "
      ],
      "execution_count": null,
      "outputs": [
        {
          "output_type": "error",
          "ename": "IndexError",
          "evalue": "ignored",
          "traceback": [
            "\u001b[0;31m---------------------------------------------------------------------------\u001b[0m",
            "\u001b[0;31mIndexError\u001b[0m                                Traceback (most recent call last)",
            "\u001b[0;32m<ipython-input-7-7224286920cf>\u001b[0m in \u001b[0;36m<module>\u001b[0;34m()\u001b[0m\n\u001b[0;32m----> 1\u001b[0;31m \u001b[0mwords\u001b[0m\u001b[0;34m[\u001b[0m\u001b[0;36m10\u001b[0m\u001b[0;34m]\u001b[0m \u001b[0;31m# 문자가 10개 밖에 없는 문자열에서 11번째에 있는 문자를 출력하기 때문에 에러가 발생\u001b[0m\u001b[0;34m\u001b[0m\u001b[0;34m\u001b[0m\u001b[0m\n\u001b[0m",
            "\u001b[0;31mIndexError\u001b[0m: string index out of range"
          ]
        }
      ]
    },
    {
      "cell_type": "markdown",
      "source": [
        "### [코드 예제 4-39: 문자열 슬라이싱의 예 1]"
      ],
      "metadata": {
        "id": "7EGb2hWa52G3"
      }
    },
    {
      "cell_type": "code",
      "metadata": {
        "colab": {
          "base_uri": "https://localhost:8080/",
          "height": 35
        },
        "id": "t74O6URRhsV-",
        "outputId": "3e930eea-90ce-4e6b-8b16-d8071fde2641"
      },
      "source": [
        "words[0:6] # 첫번째부터 일곱번째 위치에 있는 모든 문자 출력 "
      ],
      "execution_count": null,
      "outputs": [
        {
          "output_type": "execute_result",
          "data": {
            "application/vnd.google.colaboratory.intrinsic+json": {
              "type": "string"
            },
            "text/plain": [
              "'인공지능의 '"
            ]
          },
          "metadata": {},
          "execution_count": 10
        }
      ]
    },
    {
      "cell_type": "markdown",
      "source": [
        "### [코드 예제 4-40: 문자열 슬라이싱에서 시작 위치나 끝 위치를 비워 둔 예]"
      ],
      "metadata": {
        "id": "C8phduf86zw5"
      }
    },
    {
      "cell_type": "code",
      "metadata": {
        "colab": {
          "base_uri": "https://localhost:8080/"
        },
        "id": "0TV40NZxhrLw",
        "outputId": "5c758c82-55b4-4915-8ff2-7ecb09fe2b08"
      },
      "source": [
        "print(words[:7]) # 문자열의 처음부터 인덱스 7 앞의 문자까지 슬라이싱\n",
        "print(words[7:]) # 문자열의 인덱스 7부터 마지막 문자까지 슬라이싱\n",
        "print(words[:]) # 문자열의 처음부터 끝까지 슬라이싱"
      ],
      "execution_count": null,
      "outputs": [
        {
          "output_type": "stream",
          "name": "stdout",
          "text": [
            "인공지능의 기\n",
            "초개념\n",
            "인공지능의 기초개념\n"
          ]
        }
      ]
    },
    {
      "cell_type": "markdown",
      "source": [
        "### [코드 예제 4-41: 음수를 사용한 인덱싱의 예 1] "
      ],
      "metadata": {
        "id": "46HihMtC9HGi"
      }
    },
    {
      "cell_type": "code",
      "source": [
        "print(words[-5:-1]) # -5번째와 -1번째 사이의 문자열\n",
        "print(words[2:-1]) # 양수와 음수 인덱스의 혼용 "
      ],
      "metadata": {
        "colab": {
          "base_uri": "https://localhost:8080/"
        },
        "id": "_2mBnoGR504h",
        "outputId": "815238b1-f8c3-45b8-f3b6-cc40b5c82edc"
      },
      "execution_count": null,
      "outputs": [
        {
          "output_type": "stream",
          "name": "stdout",
          "text": [
            " 기초개\n",
            "지능의 기초개\n"
          ]
        }
      ]
    },
    {
      "cell_type": "markdown",
      "source": [
        "### [코드 예제 4-42: 음수를 사용한 인덱싱의 예 2] "
      ],
      "metadata": {
        "id": "tzsYdyiE9FGP"
      }
    },
    {
      "cell_type": "code",
      "metadata": {
        "colab": {
          "base_uri": "https://localhost:8080/",
          "height": 35
        },
        "id": "FiunvwRghxzo",
        "outputId": "6e561acb-70aa-4529-d3c2-ed94679a4ef2"
      },
      "source": [
        "# 시작위치의 범위가 넘더라도 에러발생 하지 않음 \n",
        "words[-11:] "
      ],
      "execution_count": null,
      "outputs": [
        {
          "output_type": "execute_result",
          "data": {
            "application/vnd.google.colaboratory.intrinsic+json": {
              "type": "string"
            },
            "text/plain": [
              "'인공지능의 기초개념'"
            ]
          },
          "metadata": {},
          "execution_count": 9
        }
      ]
    },
    {
      "cell_type": "markdown",
      "source": [
        "### [코드 예제 4-43: 매 n 번째 문자를 출력하는 코드] "
      ],
      "metadata": {
        "id": "Um5A5zF0--QN"
      }
    },
    {
      "cell_type": "code",
      "metadata": {
        "colab": {
          "base_uri": "https://localhost:8080/",
          "height": 35
        },
        "id": "S0aCiHnhiYw_",
        "outputId": "9b074e62-a15c-4019-ab13-7924bf454e85"
      },
      "source": [
        "# 매 2번째 문자 출력\n",
        "words[::2] "
      ],
      "execution_count": null,
      "outputs": [
        {
          "output_type": "execute_result",
          "data": {
            "application/vnd.google.colaboratory.intrinsic+json": {
              "type": "string"
            },
            "text/plain": [
              "'인지의기개'"
            ]
          },
          "metadata": {},
          "execution_count": 10
        }
      ]
    },
    {
      "cell_type": "markdown",
      "source": [
        "### [코드 예게 4=44: 슬라이싱에서 음수로 단계를 조절하는 코드의 예] "
      ],
      "metadata": {
        "id": "E-blpwH--8qC"
      }
    },
    {
      "cell_type": "code",
      "metadata": {
        "colab": {
          "base_uri": "https://localhost:8080/",
          "height": 35
        },
        "id": "uN5tPg2ni15y",
        "outputId": "ad3879a2-9ee6-4aa6-81c2-8ede4a4054fc"
      },
      "source": [
        "# 매 1번째 글자를 반대로 출력\n",
        "words[::-1] "
      ],
      "execution_count": null,
      "outputs": [
        {
          "output_type": "execute_result",
          "data": {
            "application/vnd.google.colaboratory.intrinsic+json": {
              "type": "string"
            },
            "text/plain": [
              "'념개초기 의능지공인'"
            ]
          },
          "metadata": {},
          "execution_count": 12
        }
      ]
    }
  ]
}